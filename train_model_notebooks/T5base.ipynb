{
  "cells": [
    {
      "cell_type": "markdown",
      "metadata": {
        "id": "4d7p4Wf_49w7"
      },
      "source": [
        "## Install & Import nessary libries"
      ]
    },
    {
      "cell_type": "code",
      "execution_count": 1,
      "metadata": {
        "colab": {
          "base_uri": "https://localhost:8080/"
        },
        "id": "Atcd3hdgwBde",
        "outputId": "2b650f0e-475a-43b2-afff-9f6c729cc14a"
      },
      "outputs": [
        {
          "name": "stdout",
          "output_type": "stream",
          "text": [
            "Mon Jul 17 18:30:44 2023       \n",
            "+-----------------------------------------------------------------------------+\n",
            "| NVIDIA-SMI 525.105.17   Driver Version: 525.105.17   CUDA Version: 12.0     |\n",
            "|-------------------------------+----------------------+----------------------+\n",
            "| GPU  Name        Persistence-M| Bus-Id        Disp.A | Volatile Uncorr. ECC |\n",
            "| Fan  Temp  Perf  Pwr:Usage/Cap|         Memory-Usage | GPU-Util  Compute M. |\n",
            "|                               |                      |               MIG M. |\n",
            "|===============================+======================+======================|\n",
            "|   0  Tesla V100-SXM2...  Off  | 00000000:00:04.0 Off |                    0 |\n",
            "| N/A   36C    P0    25W / 300W |      0MiB / 16384MiB |      0%      Default |\n",
            "|                               |                      |                  N/A |\n",
            "+-------------------------------+----------------------+----------------------+\n",
            "                                                                               \n",
            "+-----------------------------------------------------------------------------+\n",
            "| Processes:                                                                  |\n",
            "|  GPU   GI   CI        PID   Type   Process name                  GPU Memory |\n",
            "|        ID   ID                                                   Usage      |\n",
            "|=============================================================================|\n",
            "|  No running processes found                                                 |\n",
            "+-----------------------------------------------------------------------------+\n"
          ]
        }
      ],
      "source": [
        "!nvidia-smi"
      ]
    },
    {
      "cell_type": "code",
      "execution_count": 2,
      "metadata": {
        "colab": {
          "base_uri": "https://localhost:8080/"
        },
        "id": "fuwF14vX2qCM",
        "outputId": "f3c560a6-d228-42ae-da0b-f3c941230f62"
      },
      "outputs": [
        {
          "name": "stderr",
          "output_type": "stream",
          "text": [
            "[nltk_data] Downloading package punkt to /root/nltk_data...\n",
            "[nltk_data]   Unzipping tokenizers/punkt.zip.\n"
          ]
        }
      ],
      "source": [
        "import os\n",
        "import numpy as np # linear algebra\n",
        "import pandas as pd # data processing, CSV file I/O (e.g. pd.read_csv)\n",
        "from sklearn.model_selection import train_test_split\n",
        "import nltk\n",
        "nltk.download('punkt')\n",
        "import matplotlib as plt\n",
        "import seaborn as sns\n",
        "import matplotlib.pyplot as plt"
      ]
    },
    {
      "cell_type": "code",
      "execution_count": 3,
      "metadata": {
        "id": "t9XPqMwnxzAl"
      },
      "outputs": [],
      "source": [
        "import spacy\n",
        "from string import punctuation\n",
        "from heapq import nlargest\n",
        "\n",
        "# Load the English language model in spaCy\n",
        "nlp = spacy.load(\"en_core_web_sm\")\n",
        "\n",
        "# Define the list of stopwords\n",
        "stopwords = nlp.Defaults.stop_words.union(punctuation)"
      ]
    },
    {
      "cell_type": "code",
      "execution_count": 4,
      "metadata": {
        "colab": {
          "base_uri": "https://localhost:8080/",
          "height": 0
        },
        "id": "uBq4U_wpVjji",
        "outputId": "6e5e954d-210c-4d6b-afcb-56180fdca204"
      },
      "outputs": [
        {
          "name": "stdout",
          "output_type": "stream",
          "text": [
            "Collecting jedi\n",
            "  Downloading jedi-0.18.2-py2.py3-none-any.whl (1.6 MB)\n",
            "\u001b[2K     \u001b[90m━━━━━━━━━━━━━━━━━━━━━━━━━━━━━━━━━━━━━━━━\u001b[0m \u001b[32m1.6/1.6 MB\u001b[0m \u001b[31m29.7 MB/s\u001b[0m eta \u001b[36m0:00:00\u001b[0m\n",
            "\u001b[?25hRequirement already satisfied: parso<0.9.0,>=0.8.0 in /usr/local/lib/python3.10/dist-packages (from jedi) (0.8.3)\n",
            "Installing collected packages: jedi\n",
            "Successfully installed jedi-0.18.2\n",
            "Requirement already satisfied: setuptools in /usr/local/lib/python3.10/dist-packages (67.7.2)\n",
            "Collecting setuptools\n",
            "  Downloading setuptools-68.0.0-py3-none-any.whl (804 kB)\n",
            "\u001b[2K     \u001b[90m━━━━━━━━━━━━━━━━━━━━━━━━━━━━━━━━━━━━━━\u001b[0m \u001b[32m804.0/804.0 kB\u001b[0m \u001b[31m22.0 MB/s\u001b[0m eta \u001b[36m0:00:00\u001b[0m\n",
            "\u001b[?25hInstalling collected packages: setuptools\n",
            "  Attempting uninstall: setuptools\n",
            "    Found existing installation: setuptools 67.7.2\n",
            "    Uninstalling setuptools-67.7.2:\n",
            "      Successfully uninstalled setuptools-67.7.2\n",
            "Successfully installed setuptools-68.0.0\n"
          ]
        },
        {
          "data": {
            "application/vnd.colab-display-data+json": {
              "pip_warning": {
                "packages": [
                  "_distutils_hack",
                  "pkg_resources",
                  "setuptools"
                ]
              }
            }
          },
          "metadata": {},
          "output_type": "display_data"
        }
      ],
      "source": [
        "#!pip install --upgrade pytorch-lightning\n",
        "\n",
        "!pip install --upgrade jedi\n",
        "!pip install --upgrade setuptools"
      ]
    },
    {
      "cell_type": "code",
      "execution_count": 5,
      "metadata": {
        "colab": {
          "base_uri": "https://localhost:8080/"
        },
        "id": "ldcEVHAqZqmS",
        "outputId": "8675830b-1a2f-4f7b-f14d-9de4d5d9f53f"
      },
      "outputs": [
        {
          "name": "stdout",
          "output_type": "stream",
          "text": [
            "Collecting sentencepiece\n",
            "  Downloading sentencepiece-0.1.99-cp310-cp310-manylinux_2_17_x86_64.manylinux2014_x86_64.whl (1.3 MB)\n",
            "\u001b[?25l     \u001b[90m━━━━━━━━━━━━━━━━━━━━━━━━━━━━━━━━━━━━━━━━\u001b[0m \u001b[32m0.0/1.3 MB\u001b[0m \u001b[31m?\u001b[0m eta \u001b[36m-:--:--\u001b[0m\r\u001b[2K     \u001b[91m━━━━━━━━━━━━━━━━━━━━━━━━━━━━━━━━━━━\u001b[0m\u001b[90m╺\u001b[0m\u001b[90m━━━━\u001b[0m \u001b[32m1.1/1.3 MB\u001b[0m \u001b[31m35.0 MB/s\u001b[0m eta \u001b[36m0:00:01\u001b[0m\r\u001b[2K     \u001b[90m━━━━━━━━━━━━━━━━━━━━━━━━━━━━━━━━━━━━━━━━\u001b[0m \u001b[32m1.3/1.3 MB\u001b[0m \u001b[31m27.0 MB/s\u001b[0m eta \u001b[36m0:00:00\u001b[0m\n",
            "\u001b[?25hInstalling collected packages: sentencepiece\n",
            "Successfully installed sentencepiece-0.1.99\n"
          ]
        }
      ],
      "source": [
        "!pip install sentencepiece"
      ]
    },
    {
      "cell_type": "code",
      "execution_count": 6,
      "metadata": {
        "colab": {
          "base_uri": "https://localhost:8080/",
          "height": 0
        },
        "id": "E1fhxsgdVrbu",
        "outputId": "3a6e3388-6551-4955-cff0-085d5884b264"
      },
      "outputs": [
        {
          "name": "stdout",
          "output_type": "stream",
          "text": [
            "  Installing build dependencies ... \u001b[?25l\u001b[?25hdone\n",
            "  Getting requirements to build wheel ... \u001b[?25l\u001b[?25hdone\n",
            "  Preparing metadata (pyproject.toml) ... \u001b[?25l\u001b[?25hdone\n",
            "\u001b[2K     \u001b[90m━━━━━━━━━━━━━━━━━━━━━━━━━━━━━━━━━━━━━━━\u001b[0m \u001b[32m268.8/268.8 kB\u001b[0m \u001b[31m7.2 MB/s\u001b[0m eta \u001b[36m0:00:00\u001b[0m\n",
            "\u001b[2K     \u001b[90m━━━━━━━━━━━━━━━━━━━━━━━━━━━━━━━━━━━━━━━━\u001b[0m \u001b[32m7.8/7.8 MB\u001b[0m \u001b[31m86.5 MB/s\u001b[0m eta \u001b[36m0:00:00\u001b[0m\n",
            "\u001b[2K     \u001b[90m━━━━━━━━━━━━━━━━━━━━━━━━━━━━━━━━━━━━━━━━\u001b[0m \u001b[32m1.3/1.3 MB\u001b[0m \u001b[31m75.5 MB/s\u001b[0m eta \u001b[36m0:00:00\u001b[0m\n",
            "\u001b[?25h  Building wheel for transformers (pyproject.toml) ... \u001b[?25l\u001b[?25hdone\n",
            "  Installing build dependencies ... \u001b[?25l\u001b[?25hdone\n",
            "  Getting requirements to build wheel ... \u001b[?25l\u001b[?25hdone\n",
            "  Preparing metadata (pyproject.toml) ... \u001b[?25l\u001b[?25hdone\n",
            "  Building wheel for accelerate (pyproject.toml) ... \u001b[?25l\u001b[?25hdone\n",
            "\u001b[2K     \u001b[90m━━━━━━━━━━━━━━━━━━━━━━━━━━━━━━━━━━━━━━━━\u001b[0m \u001b[32m59.4/59.4 kB\u001b[0m \u001b[31m3.3 MB/s\u001b[0m eta \u001b[36m0:00:00\u001b[0m\n",
            "\u001b[2K     \u001b[90m━━━━━━━━━━━━━━━━━━━━━━━━━━━━━━━━━━━━━━━\u001b[0m \u001b[32m110.5/110.5 kB\u001b[0m \u001b[31m7.5 MB/s\u001b[0m eta \u001b[36m0:00:00\u001b[0m\n",
            "\u001b[2K     \u001b[90m━━━━━━━━━━━━━━━━━━━━━━━━━━━━━━━━━━━━━━━━\u001b[0m \u001b[32m60.0/60.0 kB\u001b[0m \u001b[31m6.0 MB/s\u001b[0m eta \u001b[36m0:00:00\u001b[0m\n",
            "\u001b[2K     \u001b[90m━━━━━━━━━━━━━━━━━━━━━━━━━━━━━━━━━━━━━━━━\u001b[0m \u001b[32m78.6/78.6 kB\u001b[0m \u001b[31m9.0 MB/s\u001b[0m eta \u001b[36m0:00:00\u001b[0m\n",
            "\u001b[?25h  Preparing metadata (setup.py) ... \u001b[?25l\u001b[?25hdone\n",
            "\u001b[2K     \u001b[90m━━━━━━━━━━━━━━━━━━━━━━━━━━━━━━━━━━━━━━\u001b[0m \u001b[32m202.8/202.8 kB\u001b[0m \u001b[31m15.1 MB/s\u001b[0m eta \u001b[36m0:00:00\u001b[0m\n",
            "\u001b[2K     \u001b[90m━━━━━━━━━━━━━━━━━━━━━━━━━━━━━━━━━━━━━━━━\u001b[0m \u001b[32m14.1/14.1 MB\u001b[0m \u001b[31m46.3 MB/s\u001b[0m eta \u001b[36m0:00:00\u001b[0m\n",
            "\u001b[2K     \u001b[90m━━━━━━━━━━━━━━━━━━━━━━━━━━━━━━━━━━━━━━━━\u001b[0m \u001b[32m98.8/98.8 kB\u001b[0m \u001b[31m11.2 MB/s\u001b[0m eta \u001b[36m0:00:00\u001b[0m\n",
            "\u001b[2K     \u001b[90m━━━━━━━━━━━━━━━━━━━━━━━━━━━━━━━━━━━━━━━━\u001b[0m \u001b[32m3.0/3.0 MB\u001b[0m \u001b[31m94.4 MB/s\u001b[0m eta \u001b[36m0:00:00\u001b[0m\n",
            "\u001b[2K     \u001b[90m━━━━━━━━━━━━━━━━━━━━━━━━━━━━━━━━━━━━━━\u001b[0m \u001b[32m172.5/172.5 kB\u001b[0m \u001b[31m17.9 MB/s\u001b[0m eta \u001b[36m0:00:00\u001b[0m\n",
            "\u001b[2K     \u001b[90m━━━━━━━━━━━━━━━━━━━━━━━━━━━━━━━━━━━━━━━━\u001b[0m \u001b[32m3.1/3.1 MB\u001b[0m \u001b[31m84.5 MB/s\u001b[0m eta \u001b[36m0:00:00\u001b[0m\n",
            "\u001b[2K     \u001b[90m━━━━━━━━━━━━━━━━━━━━━━━━━━━━━━━━━━━━━━\u001b[0m \u001b[32m468.9/468.9 kB\u001b[0m \u001b[31m45.3 MB/s\u001b[0m eta \u001b[36m0:00:00\u001b[0m\n",
            "\u001b[?25h  Building wheel for typing (setup.py) ... \u001b[?25l\u001b[?25hdone\n"
          ]
        },
        {
          "data": {
            "text/html": [
              "<pre style=\"white-space:pre;overflow-x:auto;line-height:normal;font-family:Menlo,'DejaVu Sans Mono',consolas,'Courier New',monospace\"><span style=\"color: #7fbfbf; text-decoration-color: #7fbfbf\">[07/17/23 18:32:09] </span><span style=\"color: #bf7f7f; text-decoration-color: #bf7f7f\">WARNING </span> Unable to load torch and dependent libraries from                <a href=\"file:///usr/local/lib/python3.10/dist-packages/torch_snippets/loader.py\" target=\"_blank\"><span style=\"color: #7f7f7f; text-decoration-color: #7f7f7f\">loader.py</span></a><span style=\"color: #7f7f7f; text-decoration-color: #7f7f7f\">:</span><a href=\"file:///usr/local/lib/python3.10/dist-packages/torch_snippets/loader.py#<module>:98\" target=\"_blank\"><span style=\"color: #7f7f7f; text-decoration-color: #7f7f7f\">&lt;module&gt;:98</span></a>\n",
              "<span style=\"color: #7fbfbf; text-decoration-color: #7fbfbf\">                    </span>         torch-snippets.                                                  <span style=\"color: #7f7f7f; text-decoration-color: #7f7f7f\">                     </span>\n",
              "<span style=\"color: #7fbfbf; text-decoration-color: #7fbfbf\">                    </span>         Functionalities might be limited. pip install lovely-tensors in  <span style=\"color: #7f7f7f; text-decoration-color: #7f7f7f\">                     </span>\n",
              "<span style=\"color: #7fbfbf; text-decoration-color: #7fbfbf\">                    </span>         case there are torch related errors                              <span style=\"color: #7f7f7f; text-decoration-color: #7f7f7f\">                     </span>\n",
              "</pre>\n"
            ],
            "text/plain": [
              "\u001b[2;36m[07/17/23 18:32:09]\u001b[0m\u001b[2;36m \u001b[0m\u001b[2;31mWARNING \u001b[0m Unable to load torch and dependent libraries from                \u001b]8;id=406300;file:///usr/local/lib/python3.10/dist-packages/torch_snippets/loader.py\u001b\\\u001b[2mloader.py\u001b[0m\u001b]8;;\u001b\\\u001b[2m:\u001b[0m\u001b]8;id=103579;file:///usr/local/lib/python3.10/dist-packages/torch_snippets/loader.py#<module>:98\u001b\\\u001b[2m<module>:98\u001b[0m\u001b]8;;\u001b\\\n",
              "\u001b[2;36m                    \u001b[0m         torch-snippets.                                                  \u001b[2m                     \u001b[0m\n",
              "\u001b[2;36m                    \u001b[0m         Functionalities might be limited. pip install lovely-tensors in  \u001b[2m                     \u001b[0m\n",
              "\u001b[2;36m                    \u001b[0m         case there are torch related errors                              \u001b[2m                     \u001b[0m\n"
            ]
          },
          "metadata": {},
          "output_type": "display_data"
        }
      ],
      "source": [
        "! pip install -Uq git+https://github.com/huggingface/transformers.git\n",
        "! pip install -Uq git+https://github.com/huggingface/accelerate.git\n",
        "!pip install -q torch_snippets\n",
        "\n",
        "import torch\n",
        "import torch.nn as nn\n",
        "from torch.utils.data import Dataset, DataLoader, RandomSampler, SequentialSampler\n",
        "from torch_snippets import *\n",
        "from transformers import (T5Tokenizer,T5ForConditionalGeneration)\n",
        "\n",
        "device = torch.device(\"cuda\" if torch.cuda.is_available() else \"cpu\")"
      ]
    },
    {
      "cell_type": "code",
      "execution_count": 7,
      "metadata": {
        "id": "QRPqNRa0CwsB"
      },
      "outputs": [],
      "source": [
        "import locale\n",
        "locale.getpreferredencoding = lambda: \"UTF-8\""
      ]
    },
    {
      "cell_type": "code",
      "execution_count": 8,
      "metadata": {
        "colab": {
          "base_uri": "https://localhost:8080/"
        },
        "id": "TtNxnAgV5xQc",
        "outputId": "bea954b0-991e-450f-9efb-1999b823e923"
      },
      "outputs": [
        {
          "name": "stdout",
          "output_type": "stream",
          "text": [
            "Collecting rouge\n",
            "  Downloading rouge-1.0.1-py3-none-any.whl (13 kB)\n",
            "Requirement already satisfied: six in /usr/local/lib/python3.10/dist-packages (from rouge) (1.16.0)\n",
            "Installing collected packages: rouge\n",
            "Successfully installed rouge-1.0.1\n"
          ]
        }
      ],
      "source": [
        "!pip install rouge\n",
        "from rouge import Rouge\n",
        "rouge = Rouge()\n"
      ]
    },
    {
      "cell_type": "markdown",
      "metadata": {
        "id": "06bK5h9D43sP"
      },
      "source": [
        "## Import Dataset"
      ]
    },
    {
      "cell_type": "code",
      "execution_count": 9,
      "metadata": {
        "colab": {
          "base_uri": "https://localhost:8080/"
        },
        "id": "HEeSLjBQqAU7",
        "outputId": "a66a1145-1fad-4e4e-cf39-28360e0658ef"
      },
      "outputs": [
        {
          "name": "stdout",
          "output_type": "stream",
          "text": [
            "Mounted at /content/drive\n"
          ]
        }
      ],
      "source": [
        "from google.colab import drive\n",
        "drive.mount('/content/drive')"
      ]
    },
    {
      "cell_type": "code",
      "execution_count": 10,
      "metadata": {
        "id": "j8btIa5cV11x"
      },
      "outputs": [],
      "source": [
        "train_df = pd.read_csv(\"/content/drive/MyDrive/Dataset/cnn_dailymail_tokenlen/train.csv\", encoding='latin-1')\n",
        "test_df = pd.read_csv(\"/content/drive/MyDrive/Dataset/cnn_dailymail_tokenlen/test.csv\", encoding='latin-1')\n",
        "val_df = pd.read_csv(\"/content/drive/MyDrive/Dataset/cnn_dailymail_tokenlen/validation.csv\", encoding='latin-1')"
      ]
    },
    {
      "cell_type": "code",
      "execution_count": 11,
      "metadata": {
        "colab": {
          "base_uri": "https://localhost:8080/"
        },
        "id": "OQ_HC-BuWByU",
        "outputId": "bc352425-4ec3-4bf6-a7d9-d5965d5e1b49"
      },
      "outputs": [
        {
          "data": {
            "text/plain": [
              "(311971, 4)"
            ]
          },
          "execution_count": 11,
          "metadata": {},
          "output_type": "execute_result"
        }
      ],
      "source": [
        "df = pd.concat([train_df, test_df, val_df], ignore_index=True)\n",
        "df.shape"
      ]
    },
    {
      "cell_type": "code",
      "execution_count": 12,
      "metadata": {
        "colab": {
          "base_uri": "https://localhost:8080/",
          "height": 206
        },
        "id": "XpGBZcnJWFas",
        "outputId": "a5c2b891-96f6-40af-bdc3-58bf8d50b113"
      },
      "outputs": [
        {
          "data": {
            "text/html": [
              "\n",
              "\n",
              "  <div id=\"df-e5d39f72-1560-4b84-b518-e090f92dc28a\">\n",
              "    <div class=\"colab-df-container\">\n",
              "      <div>\n",
              "<style scoped>\n",
              "    .dataframe tbody tr th:only-of-type {\n",
              "        vertical-align: middle;\n",
              "    }\n",
              "\n",
              "    .dataframe tbody tr th {\n",
              "        vertical-align: top;\n",
              "    }\n",
              "\n",
              "    .dataframe thead th {\n",
              "        text-align: right;\n",
              "    }\n",
              "</style>\n",
              "<table border=\"1\" class=\"dataframe\">\n",
              "  <thead>\n",
              "    <tr style=\"text-align: right;\">\n",
              "      <th></th>\n",
              "      <th>source_text</th>\n",
              "      <th>target_text</th>\n",
              "      <th>source_len</th>\n",
              "      <th>target_len</th>\n",
              "    </tr>\n",
              "  </thead>\n",
              "  <tbody>\n",
              "    <tr>\n",
              "      <th>0</th>\n",
              "      <td>By . Associated Press . PUBLISHED: . 14:11 EST...</td>\n",
              "      <td>Bishop John Folda, of North Dakota, is taking ...</td>\n",
              "      <td>219</td>\n",
              "      <td>40</td>\n",
              "    </tr>\n",
              "    <tr>\n",
              "      <th>1</th>\n",
              "      <td>(CNN) -- Ralph Mata was an internal affairs li...</td>\n",
              "      <td>Criminal complaint: Cop used his role to help ...</td>\n",
              "      <td>446</td>\n",
              "      <td>42</td>\n",
              "    </tr>\n",
              "    <tr>\n",
              "      <th>2</th>\n",
              "      <td>A drunk driver who killed a young woman in a h...</td>\n",
              "      <td>Craig Eccleston-Todd, 27, had drunk at least t...</td>\n",
              "      <td>897</td>\n",
              "      <td>74</td>\n",
              "    </tr>\n",
              "    <tr>\n",
              "      <th>3</th>\n",
              "      <td>(CNN) -- With a breezy sweep of his pen Presid...</td>\n",
              "      <td>Nina dos Santos says Europe must be ready to a...</td>\n",
              "      <td>589</td>\n",
              "      <td>55</td>\n",
              "    </tr>\n",
              "    <tr>\n",
              "      <th>4</th>\n",
              "      <td>Fleetwood are the only team still to have a 10...</td>\n",
              "      <td>Fleetwood top of League One after 2-0 win at S...</td>\n",
              "      <td>638</td>\n",
              "      <td>69</td>\n",
              "    </tr>\n",
              "  </tbody>\n",
              "</table>\n",
              "</div>\n",
              "      <button class=\"colab-df-convert\" onclick=\"convertToInteractive('df-e5d39f72-1560-4b84-b518-e090f92dc28a')\"\n",
              "              title=\"Convert this dataframe to an interactive table.\"\n",
              "              style=\"display:none;\">\n",
              "\n",
              "  <svg xmlns=\"http://www.w3.org/2000/svg\" height=\"24px\"viewBox=\"0 0 24 24\"\n",
              "       width=\"24px\">\n",
              "    <path d=\"M0 0h24v24H0V0z\" fill=\"none\"/>\n",
              "    <path d=\"M18.56 5.44l.94 2.06.94-2.06 2.06-.94-2.06-.94-.94-2.06-.94 2.06-2.06.94zm-11 1L8.5 8.5l.94-2.06 2.06-.94-2.06-.94L8.5 2.5l-.94 2.06-2.06.94zm10 10l.94 2.06.94-2.06 2.06-.94-2.06-.94-.94-2.06-.94 2.06-2.06.94z\"/><path d=\"M17.41 7.96l-1.37-1.37c-.4-.4-.92-.59-1.43-.59-.52 0-1.04.2-1.43.59L10.3 9.45l-7.72 7.72c-.78.78-.78 2.05 0 2.83L4 21.41c.39.39.9.59 1.41.59.51 0 1.02-.2 1.41-.59l7.78-7.78 2.81-2.81c.8-.78.8-2.07 0-2.86zM5.41 20L4 18.59l7.72-7.72 1.47 1.35L5.41 20z\"/>\n",
              "  </svg>\n",
              "      </button>\n",
              "\n",
              "\n",
              "\n",
              "    <div id=\"df-5eab0079-ab6f-4a75-be04-ac463ea630a2\">\n",
              "      <button class=\"colab-df-quickchart\" onclick=\"quickchart('df-5eab0079-ab6f-4a75-be04-ac463ea630a2')\"\n",
              "              title=\"Suggest charts.\"\n",
              "              style=\"display:none;\">\n",
              "\n",
              "<svg xmlns=\"http://www.w3.org/2000/svg\" height=\"24px\"viewBox=\"0 0 24 24\"\n",
              "     width=\"24px\">\n",
              "    <g>\n",
              "        <path d=\"M19 3H5c-1.1 0-2 .9-2 2v14c0 1.1.9 2 2 2h14c1.1 0 2-.9 2-2V5c0-1.1-.9-2-2-2zM9 17H7v-7h2v7zm4 0h-2V7h2v10zm4 0h-2v-4h2v4z\"/>\n",
              "    </g>\n",
              "</svg>\n",
              "      </button>\n",
              "    </div>\n",
              "\n",
              "<style>\n",
              "  .colab-df-quickchart {\n",
              "    background-color: #E8F0FE;\n",
              "    border: none;\n",
              "    border-radius: 50%;\n",
              "    cursor: pointer;\n",
              "    display: none;\n",
              "    fill: #1967D2;\n",
              "    height: 32px;\n",
              "    padding: 0 0 0 0;\n",
              "    width: 32px;\n",
              "  }\n",
              "\n",
              "  .colab-df-quickchart:hover {\n",
              "    background-color: #E2EBFA;\n",
              "    box-shadow: 0px 1px 2px rgba(60, 64, 67, 0.3), 0px 1px 3px 1px rgba(60, 64, 67, 0.15);\n",
              "    fill: #174EA6;\n",
              "  }\n",
              "\n",
              "  [theme=dark] .colab-df-quickchart {\n",
              "    background-color: #3B4455;\n",
              "    fill: #D2E3FC;\n",
              "  }\n",
              "\n",
              "  [theme=dark] .colab-df-quickchart:hover {\n",
              "    background-color: #434B5C;\n",
              "    box-shadow: 0px 1px 3px 1px rgba(0, 0, 0, 0.15);\n",
              "    filter: drop-shadow(0px 1px 2px rgba(0, 0, 0, 0.3));\n",
              "    fill: #FFFFFF;\n",
              "  }\n",
              "</style>\n",
              "\n",
              "    <script>\n",
              "      async function quickchart(key) {\n",
              "        const containerElement = document.querySelector('#' + key);\n",
              "        const charts = await google.colab.kernel.invokeFunction(\n",
              "            'suggestCharts', [key], {});\n",
              "      }\n",
              "    </script>\n",
              "\n",
              "      <script>\n",
              "\n",
              "function displayQuickchartButton(domScope) {\n",
              "  let quickchartButtonEl =\n",
              "    domScope.querySelector('#df-5eab0079-ab6f-4a75-be04-ac463ea630a2 button.colab-df-quickchart');\n",
              "  quickchartButtonEl.style.display =\n",
              "    google.colab.kernel.accessAllowed ? 'block' : 'none';\n",
              "}\n",
              "\n",
              "        displayQuickchartButton(document);\n",
              "      </script>\n",
              "      <style>\n",
              "    .colab-df-container {\n",
              "      display:flex;\n",
              "      flex-wrap:wrap;\n",
              "      gap: 12px;\n",
              "    }\n",
              "\n",
              "    .colab-df-convert {\n",
              "      background-color: #E8F0FE;\n",
              "      border: none;\n",
              "      border-radius: 50%;\n",
              "      cursor: pointer;\n",
              "      display: none;\n",
              "      fill: #1967D2;\n",
              "      height: 32px;\n",
              "      padding: 0 0 0 0;\n",
              "      width: 32px;\n",
              "    }\n",
              "\n",
              "    .colab-df-convert:hover {\n",
              "      background-color: #E2EBFA;\n",
              "      box-shadow: 0px 1px 2px rgba(60, 64, 67, 0.3), 0px 1px 3px 1px rgba(60, 64, 67, 0.15);\n",
              "      fill: #174EA6;\n",
              "    }\n",
              "\n",
              "    [theme=dark] .colab-df-convert {\n",
              "      background-color: #3B4455;\n",
              "      fill: #D2E3FC;\n",
              "    }\n",
              "\n",
              "    [theme=dark] .colab-df-convert:hover {\n",
              "      background-color: #434B5C;\n",
              "      box-shadow: 0px 1px 3px 1px rgba(0, 0, 0, 0.15);\n",
              "      filter: drop-shadow(0px 1px 2px rgba(0, 0, 0, 0.3));\n",
              "      fill: #FFFFFF;\n",
              "    }\n",
              "  </style>\n",
              "\n",
              "      <script>\n",
              "        const buttonEl =\n",
              "          document.querySelector('#df-e5d39f72-1560-4b84-b518-e090f92dc28a button.colab-df-convert');\n",
              "        buttonEl.style.display =\n",
              "          google.colab.kernel.accessAllowed ? 'block' : 'none';\n",
              "\n",
              "        async function convertToInteractive(key) {\n",
              "          const element = document.querySelector('#df-e5d39f72-1560-4b84-b518-e090f92dc28a');\n",
              "          const dataTable =\n",
              "            await google.colab.kernel.invokeFunction('convertToInteractive',\n",
              "                                                     [key], {});\n",
              "          if (!dataTable) return;\n",
              "\n",
              "          const docLinkHtml = 'Like what you see? Visit the ' +\n",
              "            '<a target=\"_blank\" href=https://colab.research.google.com/notebooks/data_table.ipynb>data table notebook</a>'\n",
              "            + ' to learn more about interactive tables.';\n",
              "          element.innerHTML = '';\n",
              "          dataTable['output_type'] = 'display_data';\n",
              "          await google.colab.output.renderOutput(dataTable, element);\n",
              "          const docLink = document.createElement('div');\n",
              "          docLink.innerHTML = docLinkHtml;\n",
              "          element.appendChild(docLink);\n",
              "        }\n",
              "      </script>\n",
              "    </div>\n",
              "  </div>\n"
            ],
            "text/plain": [
              "                                         source_text  \\\n",
              "0  By . Associated Press . PUBLISHED: . 14:11 EST...   \n",
              "1  (CNN) -- Ralph Mata was an internal affairs li...   \n",
              "2  A drunk driver who killed a young woman in a h...   \n",
              "3  (CNN) -- With a breezy sweep of his pen Presid...   \n",
              "4  Fleetwood are the only team still to have a 10...   \n",
              "\n",
              "                                         target_text  source_len  target_len  \n",
              "0  Bishop John Folda, of North Dakota, is taking ...         219          40  \n",
              "1  Criminal complaint: Cop used his role to help ...         446          42  \n",
              "2  Craig Eccleston-Todd, 27, had drunk at least t...         897          74  \n",
              "3  Nina dos Santos says Europe must be ready to a...         589          55  \n",
              "4  Fleetwood top of League One after 2-0 win at S...         638          69  "
            ]
          },
          "execution_count": 12,
          "metadata": {},
          "output_type": "execute_result"
        }
      ],
      "source": [
        "df.head()"
      ]
    },
    {
      "cell_type": "code",
      "execution_count": 13,
      "metadata": {
        "colab": {
          "base_uri": "https://localhost:8080/",
          "height": 206
        },
        "id": "xDX-eA1Kbng0",
        "outputId": "50524509-037b-464e-cda3-1b5dc690adfd"
      },
      "outputs": [
        {
          "data": {
            "text/html": [
              "\n",
              "\n",
              "  <div id=\"df-5a666fba-7844-47e8-9db9-e6c42d5f30f3\">\n",
              "    <div class=\"colab-df-container\">\n",
              "      <div>\n",
              "<style scoped>\n",
              "    .dataframe tbody tr th:only-of-type {\n",
              "        vertical-align: middle;\n",
              "    }\n",
              "\n",
              "    .dataframe tbody tr th {\n",
              "        vertical-align: top;\n",
              "    }\n",
              "\n",
              "    .dataframe thead th {\n",
              "        text-align: right;\n",
              "    }\n",
              "</style>\n",
              "<table border=\"1\" class=\"dataframe\">\n",
              "  <thead>\n",
              "    <tr style=\"text-align: right;\">\n",
              "      <th></th>\n",
              "      <th>source_text</th>\n",
              "      <th>target_text</th>\n",
              "      <th>source_len</th>\n",
              "      <th>target_len</th>\n",
              "    </tr>\n",
              "  </thead>\n",
              "  <tbody>\n",
              "    <tr>\n",
              "      <th>0</th>\n",
              "      <td>summarize: By . Associated Press . PUBLISHED: ...</td>\n",
              "      <td>Bishop John Folda, of North Dakota, is taking ...</td>\n",
              "      <td>219</td>\n",
              "      <td>40</td>\n",
              "    </tr>\n",
              "    <tr>\n",
              "      <th>1</th>\n",
              "      <td>summarize: (CNN) -- Ralph Mata was an internal...</td>\n",
              "      <td>Criminal complaint: Cop used his role to help ...</td>\n",
              "      <td>446</td>\n",
              "      <td>42</td>\n",
              "    </tr>\n",
              "    <tr>\n",
              "      <th>2</th>\n",
              "      <td>summarize: A drunk driver who killed a young w...</td>\n",
              "      <td>Craig Eccleston-Todd, 27, had drunk at least t...</td>\n",
              "      <td>897</td>\n",
              "      <td>74</td>\n",
              "    </tr>\n",
              "    <tr>\n",
              "      <th>3</th>\n",
              "      <td>summarize: (CNN) -- With a breezy sweep of his...</td>\n",
              "      <td>Nina dos Santos says Europe must be ready to a...</td>\n",
              "      <td>589</td>\n",
              "      <td>55</td>\n",
              "    </tr>\n",
              "    <tr>\n",
              "      <th>4</th>\n",
              "      <td>summarize: Fleetwood are the only team still t...</td>\n",
              "      <td>Fleetwood top of League One after 2-0 win at S...</td>\n",
              "      <td>638</td>\n",
              "      <td>69</td>\n",
              "    </tr>\n",
              "  </tbody>\n",
              "</table>\n",
              "</div>\n",
              "      <button class=\"colab-df-convert\" onclick=\"convertToInteractive('df-5a666fba-7844-47e8-9db9-e6c42d5f30f3')\"\n",
              "              title=\"Convert this dataframe to an interactive table.\"\n",
              "              style=\"display:none;\">\n",
              "\n",
              "  <svg xmlns=\"http://www.w3.org/2000/svg\" height=\"24px\"viewBox=\"0 0 24 24\"\n",
              "       width=\"24px\">\n",
              "    <path d=\"M0 0h24v24H0V0z\" fill=\"none\"/>\n",
              "    <path d=\"M18.56 5.44l.94 2.06.94-2.06 2.06-.94-2.06-.94-.94-2.06-.94 2.06-2.06.94zm-11 1L8.5 8.5l.94-2.06 2.06-.94-2.06-.94L8.5 2.5l-.94 2.06-2.06.94zm10 10l.94 2.06.94-2.06 2.06-.94-2.06-.94-.94-2.06-.94 2.06-2.06.94z\"/><path d=\"M17.41 7.96l-1.37-1.37c-.4-.4-.92-.59-1.43-.59-.52 0-1.04.2-1.43.59L10.3 9.45l-7.72 7.72c-.78.78-.78 2.05 0 2.83L4 21.41c.39.39.9.59 1.41.59.51 0 1.02-.2 1.41-.59l7.78-7.78 2.81-2.81c.8-.78.8-2.07 0-2.86zM5.41 20L4 18.59l7.72-7.72 1.47 1.35L5.41 20z\"/>\n",
              "  </svg>\n",
              "      </button>\n",
              "\n",
              "\n",
              "\n",
              "    <div id=\"df-8ceb8d96-87b8-4ab2-abe1-304fde211dd8\">\n",
              "      <button class=\"colab-df-quickchart\" onclick=\"quickchart('df-8ceb8d96-87b8-4ab2-abe1-304fde211dd8')\"\n",
              "              title=\"Suggest charts.\"\n",
              "              style=\"display:none;\">\n",
              "\n",
              "<svg xmlns=\"http://www.w3.org/2000/svg\" height=\"24px\"viewBox=\"0 0 24 24\"\n",
              "     width=\"24px\">\n",
              "    <g>\n",
              "        <path d=\"M19 3H5c-1.1 0-2 .9-2 2v14c0 1.1.9 2 2 2h14c1.1 0 2-.9 2-2V5c0-1.1-.9-2-2-2zM9 17H7v-7h2v7zm4 0h-2V7h2v10zm4 0h-2v-4h2v4z\"/>\n",
              "    </g>\n",
              "</svg>\n",
              "      </button>\n",
              "    </div>\n",
              "\n",
              "<style>\n",
              "  .colab-df-quickchart {\n",
              "    background-color: #E8F0FE;\n",
              "    border: none;\n",
              "    border-radius: 50%;\n",
              "    cursor: pointer;\n",
              "    display: none;\n",
              "    fill: #1967D2;\n",
              "    height: 32px;\n",
              "    padding: 0 0 0 0;\n",
              "    width: 32px;\n",
              "  }\n",
              "\n",
              "  .colab-df-quickchart:hover {\n",
              "    background-color: #E2EBFA;\n",
              "    box-shadow: 0px 1px 2px rgba(60, 64, 67, 0.3), 0px 1px 3px 1px rgba(60, 64, 67, 0.15);\n",
              "    fill: #174EA6;\n",
              "  }\n",
              "\n",
              "  [theme=dark] .colab-df-quickchart {\n",
              "    background-color: #3B4455;\n",
              "    fill: #D2E3FC;\n",
              "  }\n",
              "\n",
              "  [theme=dark] .colab-df-quickchart:hover {\n",
              "    background-color: #434B5C;\n",
              "    box-shadow: 0px 1px 3px 1px rgba(0, 0, 0, 0.15);\n",
              "    filter: drop-shadow(0px 1px 2px rgba(0, 0, 0, 0.3));\n",
              "    fill: #FFFFFF;\n",
              "  }\n",
              "</style>\n",
              "\n",
              "    <script>\n",
              "      async function quickchart(key) {\n",
              "        const containerElement = document.querySelector('#' + key);\n",
              "        const charts = await google.colab.kernel.invokeFunction(\n",
              "            'suggestCharts', [key], {});\n",
              "      }\n",
              "    </script>\n",
              "\n",
              "      <script>\n",
              "\n",
              "function displayQuickchartButton(domScope) {\n",
              "  let quickchartButtonEl =\n",
              "    domScope.querySelector('#df-8ceb8d96-87b8-4ab2-abe1-304fde211dd8 button.colab-df-quickchart');\n",
              "  quickchartButtonEl.style.display =\n",
              "    google.colab.kernel.accessAllowed ? 'block' : 'none';\n",
              "}\n",
              "\n",
              "        displayQuickchartButton(document);\n",
              "      </script>\n",
              "      <style>\n",
              "    .colab-df-container {\n",
              "      display:flex;\n",
              "      flex-wrap:wrap;\n",
              "      gap: 12px;\n",
              "    }\n",
              "\n",
              "    .colab-df-convert {\n",
              "      background-color: #E8F0FE;\n",
              "      border: none;\n",
              "      border-radius: 50%;\n",
              "      cursor: pointer;\n",
              "      display: none;\n",
              "      fill: #1967D2;\n",
              "      height: 32px;\n",
              "      padding: 0 0 0 0;\n",
              "      width: 32px;\n",
              "    }\n",
              "\n",
              "    .colab-df-convert:hover {\n",
              "      background-color: #E2EBFA;\n",
              "      box-shadow: 0px 1px 2px rgba(60, 64, 67, 0.3), 0px 1px 3px 1px rgba(60, 64, 67, 0.15);\n",
              "      fill: #174EA6;\n",
              "    }\n",
              "\n",
              "    [theme=dark] .colab-df-convert {\n",
              "      background-color: #3B4455;\n",
              "      fill: #D2E3FC;\n",
              "    }\n",
              "\n",
              "    [theme=dark] .colab-df-convert:hover {\n",
              "      background-color: #434B5C;\n",
              "      box-shadow: 0px 1px 3px 1px rgba(0, 0, 0, 0.15);\n",
              "      filter: drop-shadow(0px 1px 2px rgba(0, 0, 0, 0.3));\n",
              "      fill: #FFFFFF;\n",
              "    }\n",
              "  </style>\n",
              "\n",
              "      <script>\n",
              "        const buttonEl =\n",
              "          document.querySelector('#df-5a666fba-7844-47e8-9db9-e6c42d5f30f3 button.colab-df-convert');\n",
              "        buttonEl.style.display =\n",
              "          google.colab.kernel.accessAllowed ? 'block' : 'none';\n",
              "\n",
              "        async function convertToInteractive(key) {\n",
              "          const element = document.querySelector('#df-5a666fba-7844-47e8-9db9-e6c42d5f30f3');\n",
              "          const dataTable =\n",
              "            await google.colab.kernel.invokeFunction('convertToInteractive',\n",
              "                                                     [key], {});\n",
              "          if (!dataTable) return;\n",
              "\n",
              "          const docLinkHtml = 'Like what you see? Visit the ' +\n",
              "            '<a target=\"_blank\" href=https://colab.research.google.com/notebooks/data_table.ipynb>data table notebook</a>'\n",
              "            + ' to learn more about interactive tables.';\n",
              "          element.innerHTML = '';\n",
              "          dataTable['output_type'] = 'display_data';\n",
              "          await google.colab.output.renderOutput(dataTable, element);\n",
              "          const docLink = document.createElement('div');\n",
              "          docLink.innerHTML = docLinkHtml;\n",
              "          element.appendChild(docLink);\n",
              "        }\n",
              "      </script>\n",
              "    </div>\n",
              "  </div>\n"
            ],
            "text/plain": [
              "                                         source_text  \\\n",
              "0  summarize: By . Associated Press . PUBLISHED: ...   \n",
              "1  summarize: (CNN) -- Ralph Mata was an internal...   \n",
              "2  summarize: A drunk driver who killed a young w...   \n",
              "3  summarize: (CNN) -- With a breezy sweep of his...   \n",
              "4  summarize: Fleetwood are the only team still t...   \n",
              "\n",
              "                                         target_text  source_len  target_len  \n",
              "0  Bishop John Folda, of North Dakota, is taking ...         219          40  \n",
              "1  Criminal complaint: Cop used his role to help ...         446          42  \n",
              "2  Craig Eccleston-Todd, 27, had drunk at least t...         897          74  \n",
              "3  Nina dos Santos says Europe must be ready to a...         589          55  \n",
              "4  Fleetwood top of League One after 2-0 win at S...         638          69  "
            ]
          },
          "execution_count": 13,
          "metadata": {},
          "output_type": "execute_result"
        }
      ],
      "source": [
        "df['source_text'] = \"summarize: \" + df['source_text']\n",
        "df.head()"
      ]
    },
    {
      "cell_type": "code",
      "execution_count": 14,
      "metadata": {
        "colab": {
          "base_uri": "https://localhost:8080/",
          "height": 463
        },
        "id": "2L7pQlH0WPfb",
        "outputId": "a0d50396-01f0-441f-e3c1-95f250fc0f3f"
      },
      "outputs": [
        {
          "data": {
            "text/plain": [
              "<Axes: xlabel='target_len', ylabel='Count'>"
            ]
          },
          "execution_count": 14,
          "metadata": {},
          "output_type": "execute_result"
        },
        {
          "data": {
            "image/png": "[encoded data removed]",
            "text/plain": [
              "<Figure size 1500x500 with 2 Axes>"
            ]
          },
          "metadata": {},
          "output_type": "display_data"
        }
      ],
      "source": [
        "# Plotting the histograms\n",
        "import matplotlib.pyplot as plt\n",
        "fig, axes = plt.subplots(nrows=1, ncols=2, figsize=(15, 5))\n",
        "sns.histplot(df['source_len'], ax=axes[0], color='blue')\n",
        "sns.histplot(df['target_len'], ax=axes[1], color='red')"
      ]
    },
    {
      "cell_type": "code",
      "execution_count": 15,
      "metadata": {
        "id": "x3X8bb6TvJC9"
      },
      "outputs": [],
      "source": [
        "df = df[(df.target_len <= 150) & (df.target_len >= 92)]\n",
        "df = df[(df.source_len <= 1200) & (df.source_len >= 400)]"
      ]
    },
    {
      "cell_type": "code",
      "execution_count": 16,
      "metadata": {
        "colab": {
          "base_uri": "https://localhost:8080/"
        },
        "id": "MRyuzr288DFy",
        "outputId": "0d327b36-cf5d-4d32-93c7-d9fc0355dee2"
      },
      "outputs": [
        {
          "data": {
            "text/plain": [
              "(11549, 4)"
            ]
          },
          "execution_count": 16,
          "metadata": {},
          "output_type": "execute_result"
        }
      ],
      "source": [
        "df.shape"
      ]
    },
    {
      "cell_type": "code",
      "execution_count": 17,
      "metadata": {
        "colab": {
          "base_uri": "https://localhost:8080/",
          "height": 461
        },
        "id": "1uO57ce5vL9y",
        "outputId": "1101a3a0-0a20-457a-bf37-f1c1962a6bde"
      },
      "outputs": [
        {
          "data": {
            "text/plain": [
              "<Axes: xlabel='target_len', ylabel='Count'>"
            ]
          },
          "execution_count": 17,
          "metadata": {},
          "output_type": "execute_result"
        },
        {
          "data": {
            "image/png": "[encoded data removed]",
            "text/plain": [
              "<Figure size 1500x500 with 2 Axes>"
            ]
          },
          "metadata": {},
          "output_type": "display_data"
        }
      ],
      "source": [
        "\n",
        "# Plotting the histograms\n",
        "fig, axes = plt.subplots(nrows=1, ncols=2, figsize=(15, 5))\n",
        "sns.histplot(df['source_len'], ax=axes[0], color='blue')\n",
        "sns.histplot(df['target_len'], ax=axes[1], color='red')"
      ]
    },
    {
      "cell_type": "code",
      "execution_count": 18,
      "metadata": {
        "colab": {
          "base_uri": "https://localhost:8080/"
        },
        "id": "tbWDGSF3XWYX",
        "outputId": "42a4d264-28d4-4772-9362-20389d579107"
      },
      "outputs": [
        {
          "data": {
            "text/plain": [
              "((9239, 4), (1155, 4), (1155, 4))"
            ]
          },
          "execution_count": 18,
          "metadata": {},
          "output_type": "execute_result"
        }
      ],
      "source": [
        "from sklearn.model_selection import train_test_split\n",
        "\n",
        "def clean_data(df):\n",
        "    # lowercase the data\n",
        "    df[\"source_text\"] = df[\"source_text\"].apply(lambda x: x.lower())\n",
        "    df[\"target_text\"] = df[\"target_text\"].apply(lambda x: x.lower())\n",
        "    # remove excess white space\n",
        "    df[\"source_text\"] = df[\"source_text\"].apply(lambda x: \" \".join(x.split()))\n",
        "    return df\n",
        "\n",
        "df = clean_data(df)\n",
        "\n",
        "# Step 1: Split the original DataFrame into training and temporary DataFrame (80% for training and 20% temporary)\n",
        "train_df, temp_df = train_test_split(df, test_size=0.2)\n",
        "\n",
        "# Step 2: Split the temporary DataFrame into validation and testing DataFrames (50% for validation and 50% for testing)\n",
        "val_df, test_df = train_test_split(temp_df, test_size=0.5)\n",
        "train_df.shape, val_df.shape, test_df.shape"
      ]
    },
    {
      "cell_type": "code",
      "execution_count": 19,
      "metadata": {
        "colab": {
          "base_uri": "https://localhost:8080/",
          "height": 206
        },
        "id": "uj1-4rxNXy5g",
        "outputId": "78a0e6e9-ac30-41c9-ba1c-8c5536e1cef3"
      },
      "outputs": [
        {
          "data": {
            "text/html": [
              "\n",
              "\n",
              "  <div id=\"df-083d59a3-a46c-4edd-bebf-1013b516b662\">\n",
              "    <div class=\"colab-df-container\">\n",
              "      <div>\n",
              "<style scoped>\n",
              "    .dataframe tbody tr th:only-of-type {\n",
              "        vertical-align: middle;\n",
              "    }\n",
              "\n",
              "    .dataframe tbody tr th {\n",
              "        vertical-align: top;\n",
              "    }\n",
              "\n",
              "    .dataframe thead th {\n",
              "        text-align: right;\n",
              "    }\n",
              "</style>\n",
              "<table border=\"1\" class=\"dataframe\">\n",
              "  <thead>\n",
              "    <tr style=\"text-align: right;\">\n",
              "      <th></th>\n",
              "      <th>source_text</th>\n",
              "      <th>target_text</th>\n",
              "      <th>source_len</th>\n",
              "      <th>target_len</th>\n",
              "    </tr>\n",
              "  </thead>\n",
              "  <tbody>\n",
              "    <tr>\n",
              "      <th>249213</th>\n",
              "      <td>summarize: hedge fund billionaire kenneth grif...</td>\n",
              "      <td>kenneth griffin, 45, is the founder and ceo of...</td>\n",
              "      <td>689</td>\n",
              "      <td>110</td>\n",
              "    </tr>\n",
              "    <tr>\n",
              "      <th>266341</th>\n",
              "      <td>summarize: it's official: katie couric is now ...</td>\n",
              "      <td>katie couric, 57, tied the knot with financier...</td>\n",
              "      <td>1113</td>\n",
              "      <td>109</td>\n",
              "    </tr>\n",
              "    <tr>\n",
              "      <th>242212</th>\n",
              "      <td>summarize: with green spaces being replaced by...</td>\n",
              "      <td>the sea tree concept was designed by dutch-bas...</td>\n",
              "      <td>979</td>\n",
              "      <td>96</td>\n",
              "    </tr>\n",
              "    <tr>\n",
              "      <th>168093</th>\n",
              "      <td>summarize: police who investigated a rape comp...</td>\n",
              "      <td>eleanor de freitas killed herself days before ...</td>\n",
              "      <td>961</td>\n",
              "      <td>103</td>\n",
              "    </tr>\n",
              "    <tr>\n",
              "      <th>151767</th>\n",
              "      <td>summarize: by . harriet arkell for mailonline ...</td>\n",
              "      <td>controlled explosion carried out in field st a...</td>\n",
              "      <td>1059</td>\n",
              "      <td>115</td>\n",
              "    </tr>\n",
              "  </tbody>\n",
              "</table>\n",
              "</div>\n",
              "      <button class=\"colab-df-convert\" onclick=\"convertToInteractive('df-083d59a3-a46c-4edd-bebf-1013b516b662')\"\n",
              "              title=\"Convert this dataframe to an interactive table.\"\n",
              "              style=\"display:none;\">\n",
              "\n",
              "  <svg xmlns=\"http://www.w3.org/2000/svg\" height=\"24px\"viewBox=\"0 0 24 24\"\n",
              "       width=\"24px\">\n",
              "    <path d=\"M0 0h24v24H0V0z\" fill=\"none\"/>\n",
              "    <path d=\"M18.56 5.44l.94 2.06.94-2.06 2.06-.94-2.06-.94-.94-2.06-.94 2.06-2.06.94zm-11 1L8.5 8.5l.94-2.06 2.06-.94-2.06-.94L8.5 2.5l-.94 2.06-2.06.94zm10 10l.94 2.06.94-2.06 2.06-.94-2.06-.94-.94-2.06-.94 2.06-2.06.94z\"/><path d=\"M17.41 7.96l-1.37-1.37c-.4-.4-.92-.59-1.43-.59-.52 0-1.04.2-1.43.59L10.3 9.45l-7.72 7.72c-.78.78-.78 2.05 0 2.83L4 21.41c.39.39.9.59 1.41.59.51 0 1.02-.2 1.41-.59l7.78-7.78 2.81-2.81c.8-.78.8-2.07 0-2.86zM5.41 20L4 18.59l7.72-7.72 1.47 1.35L5.41 20z\"/>\n",
              "  </svg>\n",
              "      </button>\n",
              "\n",
              "\n",
              "\n",
              "    <div id=\"df-3b7b53ae-1cd6-40ac-96d4-6ae5fea1b8c0\">\n",
              "      <button class=\"colab-df-quickchart\" onclick=\"quickchart('df-3b7b53ae-1cd6-40ac-96d4-6ae5fea1b8c0')\"\n",
              "              title=\"Suggest charts.\"\n",
              "              style=\"display:none;\">\n",
              "\n",
              "<svg xmlns=\"http://www.w3.org/2000/svg\" height=\"24px\"viewBox=\"0 0 24 24\"\n",
              "     width=\"24px\">\n",
              "    <g>\n",
              "        <path d=\"M19 3H5c-1.1 0-2 .9-2 2v14c0 1.1.9 2 2 2h14c1.1 0 2-.9 2-2V5c0-1.1-.9-2-2-2zM9 17H7v-7h2v7zm4 0h-2V7h2v10zm4 0h-2v-4h2v4z\"/>\n",
              "    </g>\n",
              "</svg>\n",
              "      </button>\n",
              "    </div>\n",
              "\n",
              "<style>\n",
              "  .colab-df-quickchart {\n",
              "    background-color: #E8F0FE;\n",
              "    border: none;\n",
              "    border-radius: 50%;\n",
              "    cursor: pointer;\n",
              "    display: none;\n",
              "    fill: #1967D2;\n",
              "    height: 32px;\n",
              "    padding: 0 0 0 0;\n",
              "    width: 32px;\n",
              "  }\n",
              "\n",
              "  .colab-df-quickchart:hover {\n",
              "    background-color: #E2EBFA;\n",
              "    box-shadow: 0px 1px 2px rgba(60, 64, 67, 0.3), 0px 1px 3px 1px rgba(60, 64, 67, 0.15);\n",
              "    fill: #174EA6;\n",
              "  }\n",
              "\n",
              "  [theme=dark] .colab-df-quickchart {\n",
              "    background-color: #3B4455;\n",
              "    fill: #D2E3FC;\n",
              "  }\n",
              "\n",
              "  [theme=dark] .colab-df-quickchart:hover {\n",
              "    background-color: #434B5C;\n",
              "    box-shadow: 0px 1px 3px 1px rgba(0, 0, 0, 0.15);\n",
              "    filter: drop-shadow(0px 1px 2px rgba(0, 0, 0, 0.3));\n",
              "    fill: #FFFFFF;\n",
              "  }\n",
              "</style>\n",
              "\n",
              "    <script>\n",
              "      async function quickchart(key) {\n",
              "        const containerElement = document.querySelector('#' + key);\n",
              "        const charts = await google.colab.kernel.invokeFunction(\n",
              "            'suggestCharts', [key], {});\n",
              "      }\n",
              "    </script>\n",
              "\n",
              "      <script>\n",
              "\n",
              "function displayQuickchartButton(domScope) {\n",
              "  let quickchartButtonEl =\n",
              "    domScope.querySelector('#df-3b7b53ae-1cd6-40ac-96d4-6ae5fea1b8c0 button.colab-df-quickchart');\n",
              "  quickchartButtonEl.style.display =\n",
              "    google.colab.kernel.accessAllowed ? 'block' : 'none';\n",
              "}\n",
              "\n",
              "        displayQuickchartButton(document);\n",
              "      </script>\n",
              "      <style>\n",
              "    .colab-df-container {\n",
              "      display:flex;\n",
              "      flex-wrap:wrap;\n",
              "      gap: 12px;\n",
              "    }\n",
              "\n",
              "    .colab-df-convert {\n",
              "      background-color: #E8F0FE;\n",
              "      border: none;\n",
              "      border-radius: 50%;\n",
              "      cursor: pointer;\n",
              "      display: none;\n",
              "      fill: #1967D2;\n",
              "      height: 32px;\n",
              "      padding: 0 0 0 0;\n",
              "      width: 32px;\n",
              "    }\n",
              "\n",
              "    .colab-df-convert:hover {\n",
              "      background-color: #E2EBFA;\n",
              "      box-shadow: 0px 1px 2px rgba(60, 64, 67, 0.3), 0px 1px 3px 1px rgba(60, 64, 67, 0.15);\n",
              "      fill: #174EA6;\n",
              "    }\n",
              "\n",
              "    [theme=dark] .colab-df-convert {\n",
              "      background-color: #3B4455;\n",
              "      fill: #D2E3FC;\n",
              "    }\n",
              "\n",
              "    [theme=dark] .colab-df-convert:hover {\n",
              "      background-color: #434B5C;\n",
              "      box-shadow: 0px 1px 3px 1px rgba(0, 0, 0, 0.15);\n",
              "      filter: drop-shadow(0px 1px 2px rgba(0, 0, 0, 0.3));\n",
              "      fill: #FFFFFF;\n",
              "    }\n",
              "  </style>\n",
              "\n",
              "      <script>\n",
              "        const buttonEl =\n",
              "          document.querySelector('#df-083d59a3-a46c-4edd-bebf-1013b516b662 button.colab-df-convert');\n",
              "        buttonEl.style.display =\n",
              "          google.colab.kernel.accessAllowed ? 'block' : 'none';\n",
              "\n",
              "        async function convertToInteractive(key) {\n",
              "          const element = document.querySelector('#df-083d59a3-a46c-4edd-bebf-1013b516b662');\n",
              "          const dataTable =\n",
              "            await google.colab.kernel.invokeFunction('convertToInteractive',\n",
              "                                                     [key], {});\n",
              "          if (!dataTable) return;\n",
              "\n",
              "          const docLinkHtml = 'Like what you see? Visit the ' +\n",
              "            '<a target=\"_blank\" href=https://colab.research.google.com/notebooks/data_table.ipynb>data table notebook</a>'\n",
              "            + ' to learn more about interactive tables.';\n",
              "          element.innerHTML = '';\n",
              "          dataTable['output_type'] = 'display_data';\n",
              "          await google.colab.output.renderOutput(dataTable, element);\n",
              "          const docLink = document.createElement('div');\n",
              "          docLink.innerHTML = docLinkHtml;\n",
              "          element.appendChild(docLink);\n",
              "        }\n",
              "      </script>\n",
              "    </div>\n",
              "  </div>\n"
            ],
            "text/plain": [
              "                                              source_text  \\\n",
              "249213  summarize: hedge fund billionaire kenneth grif...   \n",
              "266341  summarize: it's official: katie couric is now ...   \n",
              "242212  summarize: with green spaces being replaced by...   \n",
              "168093  summarize: police who investigated a rape comp...   \n",
              "151767  summarize: by . harriet arkell for mailonline ...   \n",
              "\n",
              "                                              target_text  source_len  \\\n",
              "249213  kenneth griffin, 45, is the founder and ceo of...         689   \n",
              "266341  katie couric, 57, tied the knot with financier...        1113   \n",
              "242212  the sea tree concept was designed by dutch-bas...         979   \n",
              "168093  eleanor de freitas killed herself days before ...         961   \n",
              "151767  controlled explosion carried out in field st a...        1059   \n",
              "\n",
              "        target_len  \n",
              "249213         110  \n",
              "266341         109  \n",
              "242212          96  \n",
              "168093         103  \n",
              "151767         115  "
            ]
          },
          "execution_count": 19,
          "metadata": {},
          "output_type": "execute_result"
        }
      ],
      "source": [
        "train_df.head()"
      ]
    },
    {
      "cell_type": "code",
      "execution_count": 20,
      "metadata": {
        "id": "_L6cQZY2O_dR"
      },
      "outputs": [],
      "source": [
        "train_df = pd.DataFrame(train_df[:8000])\n",
        "val_df = pd.DataFrame(val_df[:1000])\n",
        "test_df0 = pd.DataFrame(test_df[:1000])"
      ]
    },
    {
      "cell_type": "markdown",
      "metadata": {
        "id": "tUkwx99z6ELS"
      },
      "source": [
        "## Create Model"
      ]
    },
    {
      "cell_type": "code",
      "execution_count": 21,
      "metadata": {
        "colab": {
          "base_uri": "https://localhost:8080/",
          "height": 230,
          "referenced_widgets": [
            "e1308964b5ac4723bcae3cbb0ccca922",
            "53166907b8d44610858292e3f210f82b",
            "68495e09823a4212b1fb5b8fc01a0cd7",
            "d1539bdb6c404a448322785b1b22e485",
            "7b8db0cdbb82417fbeb842a9503f01c7",
            "7cd52d43ce1c43e1a3d5f5545a7b74a3",
            "0651a24486794439b901db28c8a00989",
            "2173ba97c599483788fcd0c4062a293c",
            "48137a94d44d4adc97758fd19cd80db9",
            "2281cbfeb499423d9478b2254ceb7926",
            "aeea818348694a4c82595c3afdd0d2bf",
            "3d81c9d033854d36a63636cfe8bcefa1",
            "a170226d0ec2476da6e623ae97880fc0",
            "f0d3698df43248c49efbcbef8c2fea9f",
            "acad9646e7194a1eaf557299ec5c222f",
            "bea8f767302a42f6b949ffa4a6437950",
            "a775015e4e2f4a2aa9a59f54a6f2dbf7",
            "8c6a0eb3f7424a4baded9584b58d7db4",
            "5a3232c661974e5bbe1b7c68c2705858",
            "9d05a3d3f2a5452c8b663ace8c0c3042",
            "0f40d4b39def4e2bbe48f7062d20b2bf",
            "3449264098464efe8e5844ef00494554"
          ]
        },
        "id": "_rM7poQSYvRg",
        "outputId": "1e635690-8277-4029-f573-5f15bd6fb2d9"
      },
      "outputs": [
        {
          "data": {
            "application/vnd.jupyter.widget-view+json": {
              "model_id": "e1308964b5ac4723bcae3cbb0ccca922",
              "version_major": 2,
              "version_minor": 0
            },
            "text/plain": [
              "Downloading (…)ve/main/spiece.model:   0%|          | 0.00/792k [00:00<?, ?B/s]"
            ]
          },
          "metadata": {},
          "output_type": "display_data"
        },
        {
          "data": {
            "application/vnd.jupyter.widget-view+json": {
              "model_id": "3d81c9d033854d36a63636cfe8bcefa1",
              "version_major": 2,
              "version_minor": 0
            },
            "text/plain": [
              "Downloading (…)lve/main/config.json:   0%|          | 0.00/1.21k [00:00<?, ?B/s]"
            ]
          },
          "metadata": {},
          "output_type": "display_data"
        },
        {
          "name": "stderr",
          "output_type": "stream",
          "text": [
            "/usr/local/lib/python3.10/dist-packages/transformers/models/t5/tokenization_t5.py:199: FutureWarning: This tokenizer was incorrectly instantiated with a model max length of 512 which will be corrected in Transformers v5.\n",
            "For now, this behavior is kept to avoid breaking backwards compatibility when padding/encoding with `truncation is True`.\n",
            "- Be aware that you SHOULD NOT rely on t5-base automatically truncating your input to 512 when padding/encoding.\n",
            "- If you want to encode/pad to sequences longer than 512 you can either instantiate this tokenizer with `model_max_length` or pass `max_length` when encoding/padding.\n",
            "- To avoid this warning, please instantiate this tokenizer with `model_max_length` set to your preferred value.\n",
            "  warnings.warn(\n",
            "You are using the legacy behaviour of the <class 'transformers.models.t5.tokenization_t5.T5Tokenizer'>. This means that tokens that come after special tokens will not be properly handled. We recommend you to read the related pull request available at https://github.com/huggingface/transformers/pull/24565\n"
          ]
        }
      ],
      "source": [
        "tokenizer = T5Tokenizer.from_pretrained(\"t5-base\")\n",
        "\n",
        "class ArticleSummaryDataset(Dataset):\n",
        "    def __init__(self, df, tokenizer):\n",
        "        self.df = df\n",
        "        self.tokenizer = tokenizer\n",
        "\n",
        "    def __len__(self):\n",
        "        return len(self.df)\n",
        "\n",
        "    def __getitem__(self, index):\n",
        "\n",
        "        article = df[\"source_text\"].iloc[index]\n",
        "        summary = df[\"target_text\"].iloc[index]\n",
        "\n",
        "        source = self.tokenizer.batch_encode_plus(\n",
        "            [article],\n",
        "            add_special_tokens=True,\n",
        "            max_length=512,\n",
        "            truncation=True,\n",
        "            padding='max_length',\n",
        "            return_attention_mask=True,\n",
        "            return_tensors=\"pt\"\n",
        "        )\n",
        "\n",
        "        target = self.tokenizer.batch_encode_plus(\n",
        "            [summary],\n",
        "            add_special_tokens=True,\n",
        "            max_length=128,\n",
        "            truncation=True,\n",
        "            padding='max_length',\n",
        "            return_attention_mask=True,\n",
        "            return_tensors=\"pt\"\n",
        "        )\n",
        "\n",
        "        article_ids = source['input_ids'].squeeze()\n",
        "        article_masks = source['attention_mask'].squeeze()\n",
        "        summary_ids = target['input_ids'].squeeze()\n",
        "        summary_masks = target['attention_mask'].squeeze()\n",
        "        return (\n",
        "            article_ids.to(device, dtype=torch.long),\n",
        "            article_masks.to(device, dtype=torch.long),\n",
        "            summary_ids.to(device, dtype=torch.long),\n",
        "            summary_masks.to(device, dtype=torch.long),\n",
        "        )\n",
        "\n",
        "tr_ds = ArticleSummaryDataset(train_df, tokenizer)\n",
        "val_ds = ArticleSummaryDataset(val_df, tokenizer)\n",
        "\n",
        "tr_dl = DataLoader(tr_ds, shuffle=True, batch_size=8)\n",
        "val_dl = DataLoader(val_ds, shuffle=False, batch_size=8)"
      ]
    },
    {
      "cell_type": "code",
      "execution_count": 22,
      "metadata": {
        "colab": {
          "base_uri": "https://localhost:8080/",
          "height": 138,
          "referenced_widgets": [
            "0b01a036797b4f988183c59aa77573c4",
            "165c7a396d554b75bb6ae3d587c0287b",
            "7306e7db8be24140ace95aab7207583a",
            "771808dde1d04fb79d7b132396ef3331",
            "f5aca23efc374def86a2b3a825be8a62",
            "03d5c2e353114e61965c1f33e2883246",
            "276adeebc1e040578372df563a00f6df",
            "7e645fb93f984b9ba2c19246f3108721",
            "fd1f061472bd4f78b774d6be7b9dac7c",
            "ea7ac6d81e854d02ba4b50cc71062f69",
            "8add297d3882458d8554500cb96d75be",
            "11ba4f6e70214cb5ade71cbe2a368204",
            "2a2a06b8202f40e686452e682cd51824",
            "9ab592d45ab34bc495919d82a41ed368",
            "66339b2263494e37abff1bf10e3e9dfb",
            "f5e70fe8759f4de7b43850fbc4d7a96b",
            "06357bfe1756438d85f2dd703098a907",
            "6d4f2b246e6346cbbee47758798a6830",
            "69a36a43135a4d2c918bcd402692beb5",
            "20774da9a3e24e45b1b83dec7394ecf7",
            "27ec59c12d664396851955e9bc2bc127",
            "5d551b11b1ee4e749899dcde8a8ffc18"
          ]
        },
        "id": "VmYKQJKfbLuK",
        "outputId": "2cbc8393-458a-43e2-dddc-73278949aed2"
      },
      "outputs": [
        {
          "data": {
            "application/vnd.jupyter.widget-view+json": {
              "model_id": "0b01a036797b4f988183c59aa77573c4",
              "version_major": 2,
              "version_minor": 0
            },
            "text/plain": [
              "Downloading model.safetensors:   0%|          | 0.00/892M [00:00<?, ?B/s]"
            ]
          },
          "metadata": {},
          "output_type": "display_data"
        },
        {
          "data": {
            "application/vnd.jupyter.widget-view+json": {
              "model_id": "11ba4f6e70214cb5ade71cbe2a368204",
              "version_major": 2,
              "version_minor": 0
            },
            "text/plain": [
              "Downloading (…)neration_config.json:   0%|          | 0.00/147 [00:00<?, ?B/s]"
            ]
          },
          "metadata": {},
          "output_type": "display_data"
        },
        {
          "name": "stderr",
          "output_type": "stream",
          "text": [
            "/usr/local/lib/python3.10/dist-packages/transformers/optimization.py:411: FutureWarning: This implementation of AdamW is deprecated and will be removed in a future version. Use the PyTorch implementation torch.optim.AdamW instead, or set `no_deprecation_warning=True` to disable this warning\n",
            "  warnings.warn(\n"
          ]
        }
      ],
      "source": [
        "from torch.optim import AdamW\n",
        "from transformers import AdamW, get_linear_schedule_with_warmup\n",
        "\n",
        "def train_batch(model, batch, optimizer):\n",
        "    article_tokens = batch[0].to(device)\n",
        "    article_masks = batch[1].to(device)\n",
        "    summary_tokens = batch[2].to(device)\n",
        "    summary_masks = batch[3].to(device)\n",
        "\n",
        "    model.train()\n",
        "\n",
        "    optimizer.zero_grad()\n",
        "\n",
        "    outputs = model(input_ids=article_tokens,\n",
        "                   attention_mask=article_masks,\n",
        "                   labels=summary_tokens,\n",
        "                   decoder_attention_mask=summary_masks)\n",
        "    loss, prediction_scores = outputs[:2]\n",
        "\n",
        "    loss.backward()\n",
        "    optimizer.step()\n",
        "    scheduler.step()\n",
        "\n",
        "    return loss\n",
        "\n",
        "@torch.no_grad()\n",
        "def validate_batch(model, batch):\n",
        "    article_tokens = batch[0].to(device)\n",
        "    article_masks = batch[1].to(device)\n",
        "    summary_tokens = batch[2].to(device)\n",
        "    summary_masks = batch[3].to(device)\n",
        "\n",
        "    model.eval()\n",
        "\n",
        "    outputs = model(input_ids=article_tokens,\n",
        "                   attention_mask=article_masks,\n",
        "                   labels=summary_tokens,\n",
        "                   decoder_attention_mask=summary_masks)\n",
        "    loss, prediction_scores = outputs[:2]\n",
        "    return loss\n",
        "\n",
        "num_epochs = 15\n",
        "model = T5ForConditionalGeneration.from_pretrained(\"t5-base\").to(device)\n",
        "optimizer = AdamW(model.parameters(), lr=3e-5)\n",
        "total_steps = len(tr_dl) * num_epochs\n",
        "scheduler = get_linear_schedule_with_warmup(optimizer,\n",
        "                                            num_warmup_steps=0,\n",
        "                                            num_training_steps=total_steps)\n",
        "log = Report(num_epochs)\n",
        "\n",
        "output_folder = \"outputs\"\n",
        "os.makedirs(output_folder, exist_ok=True)\n",
        "\n"
      ]
    },
    {
      "cell_type": "markdown",
      "metadata": {
        "id": "FiMPdm8rrJel"
      },
      "source": [
        "## Train Model"
      ]
    },
    {
      "cell_type": "code",
      "execution_count": 23,
      "metadata": {
        "colab": {
          "base_uri": "https://localhost:8080/"
        },
        "id": "bxNdaKOoRVXE",
        "outputId": "ef8c8b31-0f22-4ae0-da95-e5f02504d249"
      },
      "outputs": [
        {
          "name": "stdout",
          "output_type": "stream",
          "text": [
            "EPOCH: 1.000  trn_loss: 1.522  val_loss: 1.220  (470.83s - 6591.60s remaining)\n",
            "EPOCH: 2.000  trn_loss: 1.409  val_loss: 1.170  (940.97s - 6116.28s remaining)\n",
            "EPOCH: 3.000  trn_loss: 1.364  val_loss: 1.131  (1411.89s - 5647.54s remaining)\n",
            "EPOCH: 4.000  trn_loss: 1.330  val_loss: 1.100  (1882.55s - 5177.01s remaining)\n",
            "EPOCH: 5.000  trn_loss: 1.303  val_loss: 1.073  (2355.12s - 4710.24s remaining)\n",
            "EPOCH: 6.000  trn_loss: 1.278  val_loss: 1.050  (2830.91s - 4246.37s remaining)\n",
            "EPOCH: 7.000  trn_loss: 1.258  val_loss: 1.030  (3303.76s - 3775.73s remaining)\n",
            "EPOCH: 8.000  trn_loss: 1.240  val_loss: 1.011  (3775.42s - 3303.49s remaining)\n",
            "EPOCH: 9.000  trn_loss: 1.225  val_loss: 0.997  (4248.30s - 2832.20s remaining)\n",
            "EPOCH: 10.000  trn_loss: 1.211  val_loss: 0.984  (4719.86s - 2359.93s remaining)\n",
            "EPOCH: 11.000  trn_loss: 1.199  val_loss: 0.973  (5196.37s - 1889.59s remaining)\n",
            "EPOCH: 12.000  trn_loss: 1.191  val_loss: 0.966  (5668.24s - 1417.06s remaining)\n",
            "EPOCH: 13.000  trn_loss: 1.184  val_loss: 0.959  (6141.81s - 944.89s remaining)\n",
            "EPOCH: 14.000  trn_loss: 1.179  val_loss: 0.956  (6612.82s - 472.34s remaining)\n",
            "EPOCH: 15.000  trn_loss: 1.175  val_loss: 0.954  (7083.93s - 0.00s remaining)\n"
          ]
        }
      ],
      "source": [
        "# Initialize lists to store training and validation losses\n",
        "train_losses = []\n",
        "val_losses = []\n",
        "\n",
        "# train the model\n",
        "for e in range(num_epochs):\n",
        "    N = len(tr_dl)\n",
        "    epoch_train_loss = 0.0  # Variable to accumulate the training loss for this epoch\n",
        "    for i, batch in enumerate(tr_dl):\n",
        "        loss = train_batch(model, batch, optimizer)\n",
        "        log.record(e+(i+1)/N, trn_loss=loss, end=\"\\r\")\n",
        "        epoch_train_loss += loss.item()  # Accumulate the training loss for this batch\n",
        "\n",
        "    # Calculate and store the average training loss for this epoch\n",
        "    avg_train_loss = epoch_train_loss / len(tr_dl)\n",
        "    train_losses.append(avg_train_loss)\n",
        "\n",
        "    N = len(val_dl)\n",
        "    epoch_val_loss = 0.0  # Variable to accumulate the validation loss for this epoch\n",
        "    for i, batch in enumerate(val_dl):\n",
        "        loss = validate_batch(model, batch)\n",
        "        log.record(e+(i+1)/N, val_loss=loss, end=\"\\r\")\n",
        "        epoch_val_loss += loss.item()  # Accumulate the validation loss for this batch\n",
        "\n",
        "    # Calculate and store the average validation loss for this epoch\n",
        "    avg_val_loss = epoch_val_loss / len(val_dl)\n",
        "    val_losses.append(avg_val_loss)\n",
        "\n",
        "    log.report_avgs(e+1)\n",
        "\n",
        "    # Save the model after each epoch\n",
        "    epoch_output_folder = os.path.join(output_folder, f\"epoch_{e+1}\")\n",
        "    os.makedirs(epoch_output_folder, exist_ok=True)\n",
        "    model_save_path = os.path.join(epoch_output_folder, \"model.pt\")\n",
        "    torch.save(model.state_dict(), model_save_path)"
      ]
    },
    {
      "cell_type": "code",
      "execution_count": 24,
      "metadata": {
        "colab": {
          "base_uri": "https://localhost:8080/",
          "height": 545
        },
        "id": "XqEcjdwKPafg",
        "outputId": "d22e4c78-5262-48ce-8e7a-5a40e9e469b5"
      },
      "outputs": [
        {
          "data": {
            "image/png": "[encoded data removed]",
            "text/plain": [
              "<Figure size 1000x600 with 1 Axes>"
            ]
          },
          "metadata": {},
          "output_type": "display_data"
        }
      ],
      "source": [
        "# Visualize the loss curves\n",
        "plt.figure(figsize=(10, 6))\n",
        "plt.plot(range(1, num_epochs+1), train_losses, label=\"Training Loss\")\n",
        "plt.plot(range(1, num_epochs+1), val_losses, label=\"Validation Loss\")\n",
        "plt.xlabel(\"Epoch\")\n",
        "plt.ylabel(\"Loss\")\n",
        "plt.title(\"Training and Validation Loss Curves\")\n",
        "plt.legend()\n",
        "plt.show()"
      ]
    },
    {
      "cell_type": "code",
      "execution_count": 41,
      "metadata": {
        "colab": {
          "base_uri": "https://localhost:8080/"
        },
        "id": "Yy5p6-Vx4VPC",
        "outputId": "a0b58809-2bed-402a-86c5-c961b1b0c32a"
      },
      "outputs": [
        {
          "data": {
            "text/plain": [
              "T5ForConditionalGeneration(\n",
              "  (shared): Embedding(32128, 768)\n",
              "  (encoder): T5Stack(\n",
              "    (embed_tokens): Embedding(32128, 768)\n",
              "    (block): ModuleList(\n",
              "      (0): T5Block(\n",
              "        (layer): ModuleList(\n",
              "          (0): T5LayerSelfAttention(\n",
              "            (SelfAttention): T5Attention(\n",
              "              (q): Linear(in_features=768, out_features=768, bias=False)\n",
              "              (k): Linear(in_features=768, out_features=768, bias=False)\n",
              "              (v): Linear(in_features=768, out_features=768, bias=False)\n",
              "              (o): Linear(in_features=768, out_features=768, bias=False)\n",
              "              (relative_attention_bias): Embedding(32, 12)\n",
              "            )\n",
              "            (layer_norm): T5LayerNorm()\n",
              "            (dropout): Dropout(p=0.1, inplace=False)\n",
              "          )\n",
              "          (1): T5LayerFF(\n",
              "            (DenseReluDense): T5DenseActDense(\n",
              "              (wi): Linear(in_features=768, out_features=3072, bias=False)\n",
              "              (wo): Linear(in_features=3072, out_features=768, bias=False)\n",
              "              (dropout): Dropout(p=0.1, inplace=False)\n",
              "              (act): ReLU()\n",
              "            )\n",
              "            (layer_norm): T5LayerNorm()\n",
              "            (dropout): Dropout(p=0.1, inplace=False)\n",
              "          )\n",
              "        )\n",
              "      )\n",
              "      (1-11): 11 x T5Block(\n",
              "        (layer): ModuleList(\n",
              "          (0): T5LayerSelfAttention(\n",
              "            (SelfAttention): T5Attention(\n",
              "              (q): Linear(in_features=768, out_features=768, bias=False)\n",
              "              (k): Linear(in_features=768, out_features=768, bias=False)\n",
              "              (v): Linear(in_features=768, out_features=768, bias=False)\n",
              "              (o): Linear(in_features=768, out_features=768, bias=False)\n",
              "            )\n",
              "            (layer_norm): T5LayerNorm()\n",
              "            (dropout): Dropout(p=0.1, inplace=False)\n",
              "          )\n",
              "          (1): T5LayerFF(\n",
              "            (DenseReluDense): T5DenseActDense(\n",
              "              (wi): Linear(in_features=768, out_features=3072, bias=False)\n",
              "              (wo): Linear(in_features=3072, out_features=768, bias=False)\n",
              "              (dropout): Dropout(p=0.1, inplace=False)\n",
              "              (act): ReLU()\n",
              "            )\n",
              "            (layer_norm): T5LayerNorm()\n",
              "            (dropout): Dropout(p=0.1, inplace=False)\n",
              "          )\n",
              "        )\n",
              "      )\n",
              "    )\n",
              "    (final_layer_norm): T5LayerNorm()\n",
              "    (dropout): Dropout(p=0.1, inplace=False)\n",
              "  )\n",
              "  (decoder): T5Stack(\n",
              "    (embed_tokens): Embedding(32128, 768)\n",
              "    (block): ModuleList(\n",
              "      (0): T5Block(\n",
              "        (layer): ModuleList(\n",
              "          (0): T5LayerSelfAttention(\n",
              "            (SelfAttention): T5Attention(\n",
              "              (q): Linear(in_features=768, out_features=768, bias=False)\n",
              "              (k): Linear(in_features=768, out_features=768, bias=False)\n",
              "              (v): Linear(in_features=768, out_features=768, bias=False)\n",
              "              (o): Linear(in_features=768, out_features=768, bias=False)\n",
              "              (relative_attention_bias): Embedding(32, 12)\n",
              "            )\n",
              "            (layer_norm): T5LayerNorm()\n",
              "            (dropout): Dropout(p=0.1, inplace=False)\n",
              "          )\n",
              "          (1): T5LayerCrossAttention(\n",
              "            (EncDecAttention): T5Attention(\n",
              "              (q): Linear(in_features=768, out_features=768, bias=False)\n",
              "              (k): Linear(in_features=768, out_features=768, bias=False)\n",
              "              (v): Linear(in_features=768, out_features=768, bias=False)\n",
              "              (o): Linear(in_features=768, out_features=768, bias=False)\n",
              "            )\n",
              "            (layer_norm): T5LayerNorm()\n",
              "            (dropout): Dropout(p=0.1, inplace=False)\n",
              "          )\n",
              "          (2): T5LayerFF(\n",
              "            (DenseReluDense): T5DenseActDense(\n",
              "              (wi): Linear(in_features=768, out_features=3072, bias=False)\n",
              "              (wo): Linear(in_features=3072, out_features=768, bias=False)\n",
              "              (dropout): Dropout(p=0.1, inplace=False)\n",
              "              (act): ReLU()\n",
              "            )\n",
              "            (layer_norm): T5LayerNorm()\n",
              "            (dropout): Dropout(p=0.1, inplace=False)\n",
              "          )\n",
              "        )\n",
              "      )\n",
              "      (1-11): 11 x T5Block(\n",
              "        (layer): ModuleList(\n",
              "          (0): T5LayerSelfAttention(\n",
              "            (SelfAttention): T5Attention(\n",
              "              (q): Linear(in_features=768, out_features=768, bias=False)\n",
              "              (k): Linear(in_features=768, out_features=768, bias=False)\n",
              "              (v): Linear(in_features=768, out_features=768, bias=False)\n",
              "              (o): Linear(in_features=768, out_features=768, bias=False)\n",
              "            )\n",
              "            (layer_norm): T5LayerNorm()\n",
              "            (dropout): Dropout(p=0.1, inplace=False)\n",
              "          )\n",
              "          (1): T5LayerCrossAttention(\n",
              "            (EncDecAttention): T5Attention(\n",
              "              (q): Linear(in_features=768, out_features=768, bias=False)\n",
              "              (k): Linear(in_features=768, out_features=768, bias=False)\n",
              "              (v): Linear(in_features=768, out_features=768, bias=False)\n",
              "              (o): Linear(in_features=768, out_features=768, bias=False)\n",
              "            )\n",
              "            (layer_norm): T5LayerNorm()\n",
              "            (dropout): Dropout(p=0.1, inplace=False)\n",
              "          )\n",
              "          (2): T5LayerFF(\n",
              "            (DenseReluDense): T5DenseActDense(\n",
              "              (wi): Linear(in_features=768, out_features=3072, bias=False)\n",
              "              (wo): Linear(in_features=3072, out_features=768, bias=False)\n",
              "              (dropout): Dropout(p=0.1, inplace=False)\n",
              "              (act): ReLU()\n",
              "            )\n",
              "            (layer_norm): T5LayerNorm()\n",
              "            (dropout): Dropout(p=0.1, inplace=False)\n",
              "          )\n",
              "        )\n",
              "      )\n",
              "    )\n",
              "    (final_layer_norm): T5LayerNorm()\n",
              "    (dropout): Dropout(p=0.1, inplace=False)\n",
              "  )\n",
              "  (lm_head): Linear(in_features=768, out_features=32128, bias=False)\n",
              ")"
            ]
          },
          "execution_count": 41,
          "metadata": {},
          "output_type": "execute_result"
        }
      ],
      "source": [
        "import torch\n",
        "from transformers import T5ForConditionalGeneration\n",
        "\n",
        "# Define the path to the saved checkpoint\n",
        "checkpoint_path = \"/content/outputs/epoch_15/model.pt\"\n",
        "\n",
        "# Load the checkpoint and create an instance of T5ForConditionalGeneration\n",
        "model_state_dict = torch.load(checkpoint_path, map_location=device)\n",
        "model = T5ForConditionalGeneration.from_pretrained(\"t5-base\")\n",
        "model.load_state_dict(model_state_dict)\n",
        "\n",
        "# Move the model to the desired device\n",
        "model.to(device)\n",
        "\n"
      ]
    },
    {
      "cell_type": "markdown",
      "metadata": {
        "id": "mXqLfckwd59P"
      },
      "source": [
        "## Evaluate model with test data"
      ]
    },
    {
      "cell_type": "markdown",
      "metadata": {
        "id": "Y6yj6sAfXGtr"
      },
      "source": [
        "### Abstractive Summarization - Use t5 base transformer model summarize in test_df"
      ]
    },
    {
      "cell_type": "code",
      "execution_count": 44,
      "metadata": {
        "colab": {
          "base_uri": "https://localhost:8080/"
        },
        "id": "PoonHHqJQoSp",
        "outputId": "06b4cb6d-b6a7-4001-e2f8-2458ec640c23"
      },
      "outputs": [
        {
          "name": "stderr",
          "output_type": "stream",
          "text": [
            "<ipython-input-44-2610ecd3442d>:11: SettingWithCopyWarning: \n",
            "A value is trying to be set on a copy of a slice from a DataFrame.\n",
            "Try using .loc[row_indexer,col_indexer] = value instead\n",
            "\n",
            "See the caveats in the documentation: https://pandas.pydata.org/pandas-docs/stable/user_guide/indexing.html#returning-a-view-versus-a-copy\n",
            "  test_df[\"predictions\"] = test_df['source_text'].apply(generate_prediction)\n"
          ]
        }
      ],
      "source": [
        "test_df = test_df0\n",
        "\n",
        "# Define a function to generate predictions using the loaded model\n",
        "def generate_prediction(text):\n",
        "    input_ids = tokenizer.encode(text, return_tensors=\"pt\", truncation=True, max_length=512)\n",
        "    outputs = model.generate(input_ids.to(device), max_length=140, min_length=100, num_return_sequences=1)\n",
        "    predictions = tokenizer.decode(outputs[0], skip_special_tokens=True)\n",
        "    return predictions\n",
        "\n",
        "# Apply the generate_prediction function to the 'source_text' column and store the predictions in a new 'predictions' column\n",
        "test_df[\"predictions\"] = test_df['source_text'].apply(generate_prediction)\n",
        "\n",
        "# Save the DataFrame with predictions to a CSV file\n",
        "test_df.to_csv(\"test_predictions.csv\", index=False)\n",
        "\n",
        "# Convert the columns to lists\n",
        "hyps = test_df[\"predictions\"].tolist()\n",
        "refs = test_df[\"target_text\"].tolist()\n",
        "\n",
        "\n",
        "# Join elements if they are already in a list\n",
        "hyps = [' '.join(sentences) if isinstance(sentences, list) else sentences for sentences in hyps]\n",
        "refs = [' '.join(sentences) if isinstance(sentences, list) else sentences for sentences in refs]\n",
        "\n",
        "# Calculate the Rouge scores\n",
        "scores = rouge.get_scores(hyps, refs, avg=True)"
      ]
    },
    {
      "cell_type": "code",
      "execution_count": 45,
      "metadata": {
        "colab": {
          "base_uri": "https://localhost:8080/",
          "height": 150
        },
        "id": "_NzM9EGoBt2Q",
        "outputId": "0d1e50b9-47d1-4957-a2b9-e9d36a69fd09"
      },
      "outputs": [
        {
          "data": {
            "text/html": [
              "<pre style=\"white-space:pre;overflow-x:auto;line-height:normal;font-family:Menlo,'DejaVu Sans Mono',consolas,'Courier New',monospace\">ROUGE-<span style=\"color: #008080; text-decoration-color: #008080; font-weight: bold\">1</span>: <span style=\"color: #008080; text-decoration-color: #008080; font-weight: bold\">0.4643</span>\n",
              "</pre>\n"
            ],
            "text/plain": [
              "ROUGE-\u001b[1;36m1\u001b[0m: \u001b[1;36m0.4643\u001b[0m\n"
            ]
          },
          "metadata": {},
          "output_type": "display_data"
        },
        {
          "data": {
            "text/html": [
              "<pre style=\"white-space:pre;overflow-x:auto;line-height:normal;font-family:Menlo,'DejaVu Sans Mono',consolas,'Courier New',monospace\">ROUGE-<span style=\"color: #008080; text-decoration-color: #008080; font-weight: bold\">2</span>: <span style=\"color: #008080; text-decoration-color: #008080; font-weight: bold\">0.2313</span>\n",
              "</pre>\n"
            ],
            "text/plain": [
              "ROUGE-\u001b[1;36m2\u001b[0m: \u001b[1;36m0.2313\u001b[0m\n"
            ]
          },
          "metadata": {},
          "output_type": "display_data"
        },
        {
          "data": {
            "text/html": [
              "<pre style=\"white-space:pre;overflow-x:auto;line-height:normal;font-family:Menlo,'DejaVu Sans Mono',consolas,'Courier New',monospace\">ROUGE-L: <span style=\"color: #008080; text-decoration-color: #008080; font-weight: bold\">0.4380</span>\n",
              "</pre>\n"
            ],
            "text/plain": [
              "ROUGE-L: \u001b[1;36m0.4380\u001b[0m\n"
            ]
          },
          "metadata": {},
          "output_type": "display_data"
        },
        {
          "data": {
            "text/html": [
              "<pre style=\"white-space:pre;overflow-x:auto;line-height:normal;font-family:Menlo,'DejaVu Sans Mono',consolas,'Courier New',monospace\"><span style=\"font-weight: bold\">{</span>\n",
              "    <span style=\"color: #008000; text-decoration-color: #008000\">'rouge-1'</span>: <span style=\"font-weight: bold\">{</span><span style=\"color: #008000; text-decoration-color: #008000\">'r'</span>: <span style=\"color: #008080; text-decoration-color: #008080; font-weight: bold\">0.41700574440110805</span>, <span style=\"color: #008000; text-decoration-color: #008000\">'p'</span>: <span style=\"color: #008080; text-decoration-color: #008080; font-weight: bold\">0.5292112664458601</span>, <span style=\"color: #008000; text-decoration-color: #008000\">'f'</span>: <span style=\"color: #008080; text-decoration-color: #008080; font-weight: bold\">0.46431655523885096</span><span style=\"font-weight: bold\">}</span>,\n",
              "    <span style=\"color: #008000; text-decoration-color: #008000\">'rouge-2'</span>: <span style=\"font-weight: bold\">{</span><span style=\"color: #008000; text-decoration-color: #008000\">'r'</span>: <span style=\"color: #008080; text-decoration-color: #008080; font-weight: bold\">0.20863418646962908</span>, <span style=\"color: #008000; text-decoration-color: #008000\">'p'</span>: <span style=\"color: #008080; text-decoration-color: #008080; font-weight: bold\">0.263302117410243</span>, <span style=\"color: #008000; text-decoration-color: #008000\">'f'</span>: <span style=\"color: #008080; text-decoration-color: #008080; font-weight: bold\">0.23134408599676143</span><span style=\"font-weight: bold\">}</span>,\n",
              "    <span style=\"color: #008000; text-decoration-color: #008000\">'rouge-l'</span>: <span style=\"font-weight: bold\">{</span><span style=\"color: #008000; text-decoration-color: #008000\">'r'</span>: <span style=\"color: #008080; text-decoration-color: #008080; font-weight: bold\">0.39327358277488444</span>, <span style=\"color: #008000; text-decoration-color: #008000\">'p'</span>: <span style=\"color: #008080; text-decoration-color: #008080; font-weight: bold\">0.4994346154780132</span>, <span style=\"color: #008000; text-decoration-color: #008000\">'f'</span>: <span style=\"color: #008080; text-decoration-color: #008080; font-weight: bold\">0.43802894193391845</span><span style=\"font-weight: bold\">}</span>\n",
              "<span style=\"font-weight: bold\">}</span>\n",
              "</pre>\n"
            ],
            "text/plain": [
              "\u001b[1m{\u001b[0m\n",
              "    \u001b[32m'rouge-1'\u001b[0m: \u001b[1m{\u001b[0m\u001b[32m'r'\u001b[0m: \u001b[1;36m0.41700574440110805\u001b[0m, \u001b[32m'p'\u001b[0m: \u001b[1;36m0.5292112664458601\u001b[0m, \u001b[32m'f'\u001b[0m: \u001b[1;36m0.46431655523885096\u001b[0m\u001b[1m}\u001b[0m,\n",
              "    \u001b[32m'rouge-2'\u001b[0m: \u001b[1m{\u001b[0m\u001b[32m'r'\u001b[0m: \u001b[1;36m0.20863418646962908\u001b[0m, \u001b[32m'p'\u001b[0m: \u001b[1;36m0.263302117410243\u001b[0m, \u001b[32m'f'\u001b[0m: \u001b[1;36m0.23134408599676143\u001b[0m\u001b[1m}\u001b[0m,\n",
              "    \u001b[32m'rouge-l'\u001b[0m: \u001b[1m{\u001b[0m\u001b[32m'r'\u001b[0m: \u001b[1;36m0.39327358277488444\u001b[0m, \u001b[32m'p'\u001b[0m: \u001b[1;36m0.4994346154780132\u001b[0m, \u001b[32m'f'\u001b[0m: \u001b[1;36m0.43802894193391845\u001b[0m\u001b[1m}\u001b[0m\n",
              "\u001b[1m}\u001b[0m\n"
            ]
          },
          "metadata": {},
          "output_type": "display_data"
        }
      ],
      "source": [
        "# Print the ROUGE scores\n",
        "print(f\"ROUGE-1: {scores['rouge-1']['f']:.4f}\")\n",
        "print(f\"ROUGE-2: {scores['rouge-2']['f']:.4f}\")\n",
        "print(f\"ROUGE-L: {scores['rouge-l']['f']:.4f}\")\n",
        "print(scores)"
      ]
    },
    {
      "cell_type": "code",
      "execution_count": 46,
      "metadata": {
        "colab": {
          "base_uri": "https://localhost:8080/",
          "height": 472
        },
        "id": "3DEnB2CqEIw8",
        "outputId": "b1bd8469-fa0d-4950-8140-12633cf49c74"
      },
      "outputs": [
        {
          "data": {
            "image/png": "[encoded data removed]",
            "text/plain": [
              "<Figure size 640x480 with 1 Axes>"
            ]
          },
          "metadata": {},
          "output_type": "display_data"
        }
      ],
      "source": [
        "import matplotlib.pyplot as plt\n",
        "from rouge import Rouge\n",
        "\n",
        "def plot_rouge_scores(scores):\n",
        "    metrics = ['rouge-1', 'rouge-2', 'rouge-l']\n",
        "    scores = [scores['rouge-1']['f'], scores['rouge-2']['f'], scores['rouge-l']['f']]\n",
        "\n",
        "    plt.bar(metrics, scores)\n",
        "    plt.ylim([0, 1])  # Set the y-axis limits to ensure consistent scale\n",
        "\n",
        "    plt.xlabel('Metrics')\n",
        "    plt.ylabel('F-score')\n",
        "    plt.title('Rouge Metrics')\n",
        "\n",
        "    plt.savefig('rouge_metrics.png')\n",
        "    plt.show()\n",
        "\n",
        "# Generate the PNG image\n",
        "plot_rouge_scores(scores)"
      ]
    },
    {
      "cell_type": "markdown",
      "metadata": {
        "id": "w-jg37hJaRxt"
      },
      "source": [
        "### Extractive summerization - Sentence ranking with long text inputs"
      ]
    },
    {
      "cell_type": "code",
      "execution_count": 48,
      "metadata": {
        "colab": {
          "base_uri": "https://localhost:8080/"
        },
        "id": "oXNP5XP4ablN",
        "outputId": "8512a4f4-e186-4732-d371-b0dd16dd3e27"
      },
      "outputs": [
        {
          "name": "stderr",
          "output_type": "stream",
          "text": [
            "<ipython-input-48-7921ec76ced3>:48: SettingWithCopyWarning: \n",
            "A value is trying to be set on a copy of a slice from a DataFrame.\n",
            "Try using .loc[row_indexer,col_indexer] = value instead\n",
            "\n",
            "See the caveats in the documentation: https://pandas.pydata.org/pandas-docs/stable/user_guide/indexing.html#returning-a-view-versus-a-copy\n",
            "  test_df[\"predictions\"] = test_df[\"source_text\"].apply(generate_reduced_article)\n"
          ]
        }
      ],
      "source": [
        "test_df = test_df0\n",
        "\n",
        "# Function to generate reduced article using extractive summarization\n",
        "def generate_reduced_article(input_text):\n",
        "    doc = nlp(input_text)\n",
        "    tokens = [token.text for token in doc]\n",
        "    total_tokens = len(doc)\n",
        "    summary_scale = 128 / total_tokens\n",
        "    summary_scale = round(summary_scale, 2)\n",
        "    summarized_text = extractive_summary(input_text, summary_scale, doc)\n",
        "    return summarized_text\n",
        "\n",
        "# Function for extractive summarization\n",
        "def extractive_summary(input_text, summary_scale, doc):\n",
        "    word_frequencies = {}\n",
        "    for word in doc:\n",
        "        if word.text.lower() not in stopwords:\n",
        "            if word.text.lower() not in punctuation:\n",
        "                if word.text not in word_frequencies.keys():\n",
        "                    word_frequencies[word.text] = 1\n",
        "                else:\n",
        "                    word_frequencies[word.text] += 1\n",
        "\n",
        "    max_frequency = max(word_frequencies.values())\n",
        "    for word in word_frequencies.keys():\n",
        "        word_frequencies[word] = word_frequencies[word] / max_frequency\n",
        "\n",
        "    sentence_tokens = [sent for sent in doc.sents]\n",
        "\n",
        "    sentence_scores = {}\n",
        "    for sent in sentence_tokens:\n",
        "        for word in sent:\n",
        "            if word.text.lower() in word_frequencies.keys():\n",
        "                if sent not in sentence_scores.keys():\n",
        "                    sentence_scores[sent] = word_frequencies[word.text.lower()]\n",
        "                else:\n",
        "                    sentence_scores[sent] += word_frequencies[word.text.lower()]\n",
        "\n",
        "    select_length = int(len(sentence_tokens) * summary_scale)\n",
        "    summary = nlargest(select_length, sentence_scores, key=sentence_scores.get)\n",
        "\n",
        "    final_summary = [word.text for word in summary]\n",
        "    summary = ' '.join(final_summary)\n",
        "\n",
        "    return summary\n",
        "\n",
        "# Generate reduced article for each row in test_df\n",
        "test_df[\"predictions\"] = test_df[\"source_text\"].apply(generate_reduced_article)\n",
        "\n",
        "from rouge import Rouge\n",
        "rouge = Rouge()\n",
        "\n",
        "# Convert the columns to lists\n",
        "hyps = test_df[\"predictions\"].tolist()\n",
        "refs = test_df[\"target_text\"].tolist()\n",
        "\n",
        "\n",
        "# Join elements if they are already in a list\n",
        "hyps = [' '.join(sentences) if isinstance(sentences, list) else sentences for sentences in hyps]\n",
        "refs = [' '.join(sentences) if isinstance(sentences, list) else sentences for sentences in refs]\n",
        "\n",
        "# Calculate the Rouge scores\n",
        "scores = rouge.get_scores(hyps, refs, avg=True)"
      ]
    },
    {
      "cell_type": "code",
      "execution_count": 47,
      "metadata": {
        "colab": {
          "base_uri": "https://localhost:8080/",
          "height": 150
        },
        "id": "vY7wlSHSben-",
        "outputId": "1d596372-08f8-43ac-fc82-3cf5fcdf0186"
      },
      "outputs": [
        {
          "data": {
            "text/html": [
              "<pre style=\"white-space:pre;overflow-x:auto;line-height:normal;font-family:Menlo,'DejaVu Sans Mono',consolas,'Courier New',monospace\">ROUGE-<span style=\"color: #008080; text-decoration-color: #008080; font-weight: bold\">1</span>: <span style=\"color: #008080; text-decoration-color: #008080; font-weight: bold\">0.4643</span>\n",
              "</pre>\n"
            ],
            "text/plain": [
              "ROUGE-\u001b[1;36m1\u001b[0m: \u001b[1;36m0.4643\u001b[0m\n"
            ]
          },
          "metadata": {},
          "output_type": "display_data"
        },
        {
          "data": {
            "text/html": [
              "<pre style=\"white-space:pre;overflow-x:auto;line-height:normal;font-family:Menlo,'DejaVu Sans Mono',consolas,'Courier New',monospace\">ROUGE-<span style=\"color: #008080; text-decoration-color: #008080; font-weight: bold\">2</span>: <span style=\"color: #008080; text-decoration-color: #008080; font-weight: bold\">0.2313</span>\n",
              "</pre>\n"
            ],
            "text/plain": [
              "ROUGE-\u001b[1;36m2\u001b[0m: \u001b[1;36m0.2313\u001b[0m\n"
            ]
          },
          "metadata": {},
          "output_type": "display_data"
        },
        {
          "data": {
            "text/html": [
              "<pre style=\"white-space:pre;overflow-x:auto;line-height:normal;font-family:Menlo,'DejaVu Sans Mono',consolas,'Courier New',monospace\">ROUGE-L: <span style=\"color: #008080; text-decoration-color: #008080; font-weight: bold\">0.4380</span>\n",
              "</pre>\n"
            ],
            "text/plain": [
              "ROUGE-L: \u001b[1;36m0.4380\u001b[0m\n"
            ]
          },
          "metadata": {},
          "output_type": "display_data"
        },
        {
          "data": {
            "text/html": [
              "<pre style=\"white-space:pre;overflow-x:auto;line-height:normal;font-family:Menlo,'DejaVu Sans Mono',consolas,'Courier New',monospace\"><span style=\"font-weight: bold\">{</span>\n",
              "    <span style=\"color: #008000; text-decoration-color: #008000\">'rouge-1'</span>: <span style=\"font-weight: bold\">{</span><span style=\"color: #008000; text-decoration-color: #008000\">'r'</span>: <span style=\"color: #008080; text-decoration-color: #008080; font-weight: bold\">0.41700574440110805</span>, <span style=\"color: #008000; text-decoration-color: #008000\">'p'</span>: <span style=\"color: #008080; text-decoration-color: #008080; font-weight: bold\">0.5292112664458601</span>, <span style=\"color: #008000; text-decoration-color: #008000\">'f'</span>: <span style=\"color: #008080; text-decoration-color: #008080; font-weight: bold\">0.46431655523885096</span><span style=\"font-weight: bold\">}</span>,\n",
              "    <span style=\"color: #008000; text-decoration-color: #008000\">'rouge-2'</span>: <span style=\"font-weight: bold\">{</span><span style=\"color: #008000; text-decoration-color: #008000\">'r'</span>: <span style=\"color: #008080; text-decoration-color: #008080; font-weight: bold\">0.20863418646962908</span>, <span style=\"color: #008000; text-decoration-color: #008000\">'p'</span>: <span style=\"color: #008080; text-decoration-color: #008080; font-weight: bold\">0.263302117410243</span>, <span style=\"color: #008000; text-decoration-color: #008000\">'f'</span>: <span style=\"color: #008080; text-decoration-color: #008080; font-weight: bold\">0.23134408599676143</span><span style=\"font-weight: bold\">}</span>,\n",
              "    <span style=\"color: #008000; text-decoration-color: #008000\">'rouge-l'</span>: <span style=\"font-weight: bold\">{</span><span style=\"color: #008000; text-decoration-color: #008000\">'r'</span>: <span style=\"color: #008080; text-decoration-color: #008080; font-weight: bold\">0.39327358277488444</span>, <span style=\"color: #008000; text-decoration-color: #008000\">'p'</span>: <span style=\"color: #008080; text-decoration-color: #008080; font-weight: bold\">0.4994346154780132</span>, <span style=\"color: #008000; text-decoration-color: #008000\">'f'</span>: <span style=\"color: #008080; text-decoration-color: #008080; font-weight: bold\">0.43802894193391845</span><span style=\"font-weight: bold\">}</span>\n",
              "<span style=\"font-weight: bold\">}</span>\n",
              "</pre>\n"
            ],
            "text/plain": [
              "\u001b[1m{\u001b[0m\n",
              "    \u001b[32m'rouge-1'\u001b[0m: \u001b[1m{\u001b[0m\u001b[32m'r'\u001b[0m: \u001b[1;36m0.41700574440110805\u001b[0m, \u001b[32m'p'\u001b[0m: \u001b[1;36m0.5292112664458601\u001b[0m, \u001b[32m'f'\u001b[0m: \u001b[1;36m0.46431655523885096\u001b[0m\u001b[1m}\u001b[0m,\n",
              "    \u001b[32m'rouge-2'\u001b[0m: \u001b[1m{\u001b[0m\u001b[32m'r'\u001b[0m: \u001b[1;36m0.20863418646962908\u001b[0m, \u001b[32m'p'\u001b[0m: \u001b[1;36m0.263302117410243\u001b[0m, \u001b[32m'f'\u001b[0m: \u001b[1;36m0.23134408599676143\u001b[0m\u001b[1m}\u001b[0m,\n",
              "    \u001b[32m'rouge-l'\u001b[0m: \u001b[1m{\u001b[0m\u001b[32m'r'\u001b[0m: \u001b[1;36m0.39327358277488444\u001b[0m, \u001b[32m'p'\u001b[0m: \u001b[1;36m0.4994346154780132\u001b[0m, \u001b[32m'f'\u001b[0m: \u001b[1;36m0.43802894193391845\u001b[0m\u001b[1m}\u001b[0m\n",
              "\u001b[1m}\u001b[0m\n"
            ]
          },
          "metadata": {},
          "output_type": "display_data"
        }
      ],
      "source": [
        "# Print the ROUGE scores\n",
        "print(f\"ROUGE-1: {scores['rouge-1']['f']:.4f}\")\n",
        "print(f\"ROUGE-2: {scores['rouge-2']['f']:.4f}\")\n",
        "print(f\"ROUGE-L: {scores['rouge-l']['f']:.4f}\")\n",
        "print(scores)"
      ]
    },
    {
      "cell_type": "code",
      "execution_count": 49,
      "metadata": {
        "colab": {
          "base_uri": "https://localhost:8080/",
          "height": 472
        },
        "id": "3X_mbftJbiML",
        "outputId": "eda6cab4-030b-4d9b-e626-440238c308eb"
      },
      "outputs": [
        {
          "data": {
            "image/png": "[encoded data removed]",
            "text/plain": [
              "<Figure size 640x480 with 1 Axes>"
            ]
          },
          "metadata": {},
          "output_type": "display_data"
        }
      ],
      "source": [
        "import matplotlib.pyplot as plt\n",
        "from rouge import Rouge\n",
        "\n",
        "def plot_rouge_scores(scores):\n",
        "    metrics = ['rouge-1', 'rouge-2', 'rouge-l']\n",
        "    scores = [scores['rouge-1']['f'], scores['rouge-2']['f'], scores['rouge-l']['f']]\n",
        "\n",
        "    plt.bar(metrics, scores)\n",
        "    plt.ylim([0, 1])  # Set the y-axis limits to ensure consistent scale\n",
        "\n",
        "    plt.xlabel('Metrics')\n",
        "    plt.ylabel('F-score')\n",
        "    plt.title('Rouge Metrics')\n",
        "\n",
        "    plt.savefig('rouge_metrics.png')\n",
        "    plt.show()\n",
        "\n",
        "# Generate the PNG image\n",
        "plot_rouge_scores(scores)"
      ]
    },
    {
      "cell_type": "markdown",
      "metadata": {
        "id": "SVWYpSkHswX4"
      },
      "source": [
        "### we can see that \"Abstractive Summarization - Use t5 base transformer\" model outperforms \"Extractive summerization - Sentence ranking with long text inputs\" model in all three ROUGE metrics. Therefore, based on these ROUGE scores, first model is considered better at summarization compared to second one. It achieves higher recall, precision, and F1-scores for each of the ROUGE metrics."
      ]
    },
    {
      "cell_type": "markdown",
      "metadata": {
        "id": "_NPw3SkEwziC"
      },
      "source": [
        "### Mixed strategie either produce an abstractive summary after identifying an extractive intermediate state"
      ]
    },
    {
      "cell_type": "code",
      "execution_count": 50,
      "metadata": {
        "id": "B5r3aH8QlBCI"
      },
      "outputs": [],
      "source": [
        "test_df = test_df0\n",
        "\n",
        "# Function to generate reduced article using extractive summarization\n",
        "def generate_reduced_article(input_text):\n",
        "    doc = nlp(input_text)\n",
        "    tokens = [token.text for token in doc]\n",
        "    total_tokens = len(doc)\n",
        "    summary_scale = 360 / total_tokens\n",
        "    summary_scale = round(summary_scale, 2)\n",
        "    if total_tokens < 512:\n",
        "        summarized_text = input_text\n",
        "    else:\n",
        "        summarized_text = extractive_summary(input_text, summary_scale, doc)\n",
        "    return summarized_text\n",
        "\n",
        "# Function for extractive summarization\n",
        "def extractive_summary(input_text, summary_scale, doc):\n",
        "    word_frequencies = {}\n",
        "    for word in doc:\n",
        "        if word.text.lower() not in stopwords:\n",
        "            if word.text.lower() not in punctuation:\n",
        "                if word.text not in word_frequencies.keys():\n",
        "                    word_frequencies[word.text] = 1\n",
        "                else:\n",
        "                    word_frequencies[word.text] += 1\n",
        "\n",
        "    max_frequency = max(word_frequencies.values())\n",
        "    for word in word_frequencies.keys():\n",
        "        word_frequencies[word] = word_frequencies[word] / max_frequency\n",
        "\n",
        "    sentence_tokens = [sent for sent in doc.sents]\n",
        "\n",
        "    sentence_scores = {}\n",
        "    for sent in sentence_tokens:\n",
        "        for word in sent:\n",
        "            if word.text.lower() in word_frequencies.keys():\n",
        "                if sent not in sentence_scores.keys():\n",
        "                    sentence_scores[sent] = word_frequencies[word.text.lower()]\n",
        "                else:\n",
        "                    sentence_scores[sent] += word_frequencies[word.text.lower()]\n",
        "\n",
        "    select_length = int(len(sentence_tokens) * summary_scale)\n",
        "    summary = nlargest(select_length, sentence_scores, key=sentence_scores.get)\n",
        "\n",
        "    final_summary = [word.text for word in summary]\n",
        "    summary = ' '.join(final_summary)\n",
        "\n",
        "    return summary"
      ]
    },
    {
      "cell_type": "code",
      "execution_count": 51,
      "metadata": {
        "colab": {
          "base_uri": "https://localhost:8080/"
        },
        "id": "jD8a2A74uVsu",
        "outputId": "a3769eaa-aea4-4bc4-8103-3779613a9707"
      },
      "outputs": [
        {
          "name": "stderr",
          "output_type": "stream",
          "text": [
            "<ipython-input-51-9940743a64d3>:2: SettingWithCopyWarning: \n",
            "A value is trying to be set on a copy of a slice from a DataFrame.\n",
            "Try using .loc[row_indexer,col_indexer] = value instead\n",
            "\n",
            "See the caveats in the documentation: https://pandas.pydata.org/pandas-docs/stable/user_guide/indexing.html#returning-a-view-versus-a-copy\n",
            "  test_df[\"reduced_article\"] = test_df[\"source_text\"].apply(generate_reduced_article)\n"
          ]
        }
      ],
      "source": [
        "# Generate reduced article for each row in test_df\n",
        "test_df[\"reduced_article\"] = test_df[\"source_text\"].apply(generate_reduced_article)"
      ]
    },
    {
      "cell_type": "code",
      "execution_count": 52,
      "metadata": {
        "colab": {
          "base_uri": "https://localhost:8080/",
          "height": 1000
        },
        "id": "GmZnpdvC1OpX",
        "outputId": "70bd151d-c077-4a79-810d-da2b6db97a93"
      },
      "outputs": [
        {
          "name": "stderr",
          "output_type": "stream",
          "text": [
            "<ipython-input-52-e6c2d30fe18e>:1: SettingWithCopyWarning: \n",
            "A value is trying to be set on a copy of a slice from a DataFrame.\n",
            "Try using .loc[row_indexer,col_indexer] = value instead\n",
            "\n",
            "See the caveats in the documentation: https://pandas.pydata.org/pandas-docs/stable/user_guide/indexing.html#returning-a-view-versus-a-copy\n",
            "  test_df['reduced_article_len'] = test_df['reduced_article'].apply(lambda x: len(nltk.word_tokenize(x)))\n"
          ]
        },
        {
          "data": {
            "text/html": [
              "\n",
              "\n",
              "  <div id=\"df-9d7b2ce2-d37a-46ab-a020-8da152918d30\">\n",
              "    <div class=\"colab-df-container\">\n",
              "      <div>\n",
              "<style scoped>\n",
              "    .dataframe tbody tr th:only-of-type {\n",
              "        vertical-align: middle;\n",
              "    }\n",
              "\n",
              "    .dataframe tbody tr th {\n",
              "        vertical-align: top;\n",
              "    }\n",
              "\n",
              "    .dataframe thead th {\n",
              "        text-align: right;\n",
              "    }\n",
              "</style>\n",
              "<table border=\"1\" class=\"dataframe\">\n",
              "  <thead>\n",
              "    <tr style=\"text-align: right;\">\n",
              "      <th></th>\n",
              "      <th>source_text</th>\n",
              "      <th>target_text</th>\n",
              "      <th>source_len</th>\n",
              "      <th>target_len</th>\n",
              "      <th>predictions</th>\n",
              "      <th>reduced_article</th>\n",
              "      <th>reduced_article_len</th>\n",
              "    </tr>\n",
              "  </thead>\n",
              "  <tbody>\n",
              "    <tr>\n",
              "      <th>301706</th>\n",
              "      <td>summarize: claims: aleksandar kovacic, picture...</td>\n",
              "      <td>aleksandar kovacic suffered serious injuries i...</td>\n",
              "      <td>856</td>\n",
              "      <td>93</td>\n",
              "      <td>aleksandar kovacic suffered serious injuries a...</td>\n",
              "      <td>'could not be believed' a senior judge ruled m...</td>\n",
              "      <td>382</td>\n",
              "    </tr>\n",
              "    <tr>\n",
              "      <th>64689</th>\n",
              "      <td>summarize: caroline foxley, pictured yesterday...</td>\n",
              "      <td>caroline foxley, 59, was convicted of falsely ...</td>\n",
              "      <td>789</td>\n",
              "      <td>124</td>\n",
              "      <td>mother-of-two deposited cash from â£306,000 pr...</td>\n",
              "      <td>ã¢ââit would appear it has still got a bit o...</td>\n",
              "      <td>470</td>\n",
              "    </tr>\n",
              "    <tr>\n",
              "      <th>80149</th>\n",
              "      <td>summarize: by . ashley collman . published: . ...</td>\n",
              "      <td>titan lee-hai, 19, jumped 15 stories into the ...</td>\n",
              "      <td>953</td>\n",
              "      <td>131</td>\n",
              "      <td>titan lee-hai, 19, jumped 15 stories to his de...</td>\n",
              "      <td>19-year-old new york university freshman titan...</td>\n",
              "      <td>539</td>\n",
              "    </tr>\n",
              "    <tr>\n",
              "      <th>8657</th>\n",
              "      <td>summarize: dejan lovren, the croatian player a...</td>\n",
              "      <td>dejan lovren has blasted referee yuichi nishim...</td>\n",
              "      <td>651</td>\n",
              "      <td>93</td>\n",
              "      <td>dejan lovren fumes at yuichi nishimura's decis...</td>\n",
              "      <td>summarize: dejan lovren, the croatian player a...</td>\n",
              "      <td>455</td>\n",
              "    </tr>\n",
              "    <tr>\n",
              "      <th>272815</th>\n",
              "      <td>summarize: there's a word to describe moments ...</td>\n",
              "      <td>london's newest tourist attraction provides a ...</td>\n",
              "      <td>967</td>\n",
              "      <td>110</td>\n",
              "      <td>glass walkway opened yesterday between the nor...</td>\n",
              "      <td>up high: the glass platform stretches across t...</td>\n",
              "      <td>427</td>\n",
              "    </tr>\n",
              "    <tr>\n",
              "      <th>...</th>\n",
              "      <td>...</td>\n",
              "      <td>...</td>\n",
              "      <td>...</td>\n",
              "      <td>...</td>\n",
              "      <td>...</td>\n",
              "      <td>...</td>\n",
              "      <td>...</td>\n",
              "    </tr>\n",
              "    <tr>\n",
              "      <th>83681</th>\n",
              "      <td>summarize: by . alex greig . published: . 11:2...</td>\n",
              "      <td>janitor hired for $8 an hour stayed on at care...</td>\n",
              "      <td>714</td>\n",
              "      <td>96</td>\n",
              "      <td>miguel alvarez, 33, stayed at the valley sprin...</td>\n",
              "      <td>stepping up: most of the staff at the valley s...</td>\n",
              "      <td>535</td>\n",
              "    </tr>\n",
              "    <tr>\n",
              "      <th>56008</th>\n",
              "      <td>summarize: by . sara malm . published: . 06:06...</td>\n",
              "      <td>boy took delta flight from minneapolis to las ...</td>\n",
              "      <td>825</td>\n",
              "      <td>96</td>\n",
              "      <td>the nine-year-old boy who made it past securit...</td>\n",
              "      <td>the boy's parents told minneapolis police they...</td>\n",
              "      <td>520</td>\n",
              "    </tr>\n",
              "    <tr>\n",
              "      <th>276955</th>\n",
              "      <td>summarize: these are the shocking injuries suf...</td>\n",
              "      <td>dawn marmoy called 999 after she was beaten by...</td>\n",
              "      <td>772</td>\n",
              "      <td>106</td>\n",
              "      <td>dawn marmoy was beaten by her husband michael ...</td>\n",
              "      <td>the images captured on a police officer's body...</td>\n",
              "      <td>415</td>\n",
              "    </tr>\n",
              "    <tr>\n",
              "      <th>174</th>\n",
              "      <td>summarize: the heartbroken former fiancãâ©e o...</td>\n",
              "      <td>scot young, 52, fell 60ft to his death from ã...</td>\n",
              "      <td>1078</td>\n",
              "      <td>107</td>\n",
              "      <td>mr young, 52, found impaled on metal railings ...</td>\n",
              "      <td>noelle reno, 31, joined his daughters scarlet,...</td>\n",
              "      <td>435</td>\n",
              "    </tr>\n",
              "    <tr>\n",
              "      <th>153261</th>\n",
              "      <td>summarize: nearly 100,000 people have signed a...</td>\n",
              "      <td>teresa romero ramos contracted virus while tre...</td>\n",
              "      <td>1101</td>\n",
              "      <td>94</td>\n",
              "      <td>teresa romero ramos caught ebola after treatin...</td>\n",
              "      <td>query: at a news conference last week, her hus...</td>\n",
              "      <td>504</td>\n",
              "    </tr>\n",
              "  </tbody>\n",
              "</table>\n",
              "<p>100 rows × 7 columns</p>\n",
              "</div>\n",
              "      <button class=\"colab-df-convert\" onclick=\"convertToInteractive('df-9d7b2ce2-d37a-46ab-a020-8da152918d30')\"\n",
              "              title=\"Convert this dataframe to an interactive table.\"\n",
              "              style=\"display:none;\">\n",
              "\n",
              "  <svg xmlns=\"http://www.w3.org/2000/svg\" height=\"24px\"viewBox=\"0 0 24 24\"\n",
              "       width=\"24px\">\n",
              "    <path d=\"M0 0h24v24H0V0z\" fill=\"none\"/>\n",
              "    <path d=\"M18.56 5.44l.94 2.06.94-2.06 2.06-.94-2.06-.94-.94-2.06-.94 2.06-2.06.94zm-11 1L8.5 8.5l.94-2.06 2.06-.94-2.06-.94L8.5 2.5l-.94 2.06-2.06.94zm10 10l.94 2.06.94-2.06 2.06-.94-2.06-.94-.94-2.06-.94 2.06-2.06.94z\"/><path d=\"M17.41 7.96l-1.37-1.37c-.4-.4-.92-.59-1.43-.59-.52 0-1.04.2-1.43.59L10.3 9.45l-7.72 7.72c-.78.78-.78 2.05 0 2.83L4 21.41c.39.39.9.59 1.41.59.51 0 1.02-.2 1.41-.59l7.78-7.78 2.81-2.81c.8-.78.8-2.07 0-2.86zM5.41 20L4 18.59l7.72-7.72 1.47 1.35L5.41 20z\"/>\n",
              "  </svg>\n",
              "      </button>\n",
              "\n",
              "\n",
              "\n",
              "    <div id=\"df-a2fb6089-da40-44cb-bb1c-d57665cd64d7\">\n",
              "      <button class=\"colab-df-quickchart\" onclick=\"quickchart('df-a2fb6089-da40-44cb-bb1c-d57665cd64d7')\"\n",
              "              title=\"Suggest charts.\"\n",
              "              style=\"display:none;\">\n",
              "\n",
              "<svg xmlns=\"http://www.w3.org/2000/svg\" height=\"24px\"viewBox=\"0 0 24 24\"\n",
              "     width=\"24px\">\n",
              "    <g>\n",
              "        <path d=\"M19 3H5c-1.1 0-2 .9-2 2v14c0 1.1.9 2 2 2h14c1.1 0 2-.9 2-2V5c0-1.1-.9-2-2-2zM9 17H7v-7h2v7zm4 0h-2V7h2v10zm4 0h-2v-4h2v4z\"/>\n",
              "    </g>\n",
              "</svg>\n",
              "      </button>\n",
              "    </div>\n",
              "\n",
              "<style>\n",
              "  .colab-df-quickchart {\n",
              "    background-color: #E8F0FE;\n",
              "    border: none;\n",
              "    border-radius: 50%;\n",
              "    cursor: pointer;\n",
              "    display: none;\n",
              "    fill: #1967D2;\n",
              "    height: 32px;\n",
              "    padding: 0 0 0 0;\n",
              "    width: 32px;\n",
              "  }\n",
              "\n",
              "  .colab-df-quickchart:hover {\n",
              "    background-color: #E2EBFA;\n",
              "    box-shadow: 0px 1px 2px rgba(60, 64, 67, 0.3), 0px 1px 3px 1px rgba(60, 64, 67, 0.15);\n",
              "    fill: #174EA6;\n",
              "  }\n",
              "\n",
              "  [theme=dark] .colab-df-quickchart {\n",
              "    background-color: #3B4455;\n",
              "    fill: #D2E3FC;\n",
              "  }\n",
              "\n",
              "  [theme=dark] .colab-df-quickchart:hover {\n",
              "    background-color: #434B5C;\n",
              "    box-shadow: 0px 1px 3px 1px rgba(0, 0, 0, 0.15);\n",
              "    filter: drop-shadow(0px 1px 2px rgba(0, 0, 0, 0.3));\n",
              "    fill: #FFFFFF;\n",
              "  }\n",
              "</style>\n",
              "\n",
              "    <script>\n",
              "      async function quickchart(key) {\n",
              "        const containerElement = document.querySelector('#' + key);\n",
              "        const charts = await google.colab.kernel.invokeFunction(\n",
              "            'suggestCharts', [key], {});\n",
              "      }\n",
              "    </script>\n",
              "\n",
              "      <script>\n",
              "\n",
              "function displayQuickchartButton(domScope) {\n",
              "  let quickchartButtonEl =\n",
              "    domScope.querySelector('#df-a2fb6089-da40-44cb-bb1c-d57665cd64d7 button.colab-df-quickchart');\n",
              "  quickchartButtonEl.style.display =\n",
              "    google.colab.kernel.accessAllowed ? 'block' : 'none';\n",
              "}\n",
              "\n",
              "        displayQuickchartButton(document);\n",
              "      </script>\n",
              "      <style>\n",
              "    .colab-df-container {\n",
              "      display:flex;\n",
              "      flex-wrap:wrap;\n",
              "      gap: 12px;\n",
              "    }\n",
              "\n",
              "    .colab-df-convert {\n",
              "      background-color: #E8F0FE;\n",
              "      border: none;\n",
              "      border-radius: 50%;\n",
              "      cursor: pointer;\n",
              "      display: none;\n",
              "      fill: #1967D2;\n",
              "      height: 32px;\n",
              "      padding: 0 0 0 0;\n",
              "      width: 32px;\n",
              "    }\n",
              "\n",
              "    .colab-df-convert:hover {\n",
              "      background-color: #E2EBFA;\n",
              "      box-shadow: 0px 1px 2px rgba(60, 64, 67, 0.3), 0px 1px 3px 1px rgba(60, 64, 67, 0.15);\n",
              "      fill: #174EA6;\n",
              "    }\n",
              "\n",
              "    [theme=dark] .colab-df-convert {\n",
              "      background-color: #3B4455;\n",
              "      fill: #D2E3FC;\n",
              "    }\n",
              "\n",
              "    [theme=dark] .colab-df-convert:hover {\n",
              "      background-color: #434B5C;\n",
              "      box-shadow: 0px 1px 3px 1px rgba(0, 0, 0, 0.15);\n",
              "      filter: drop-shadow(0px 1px 2px rgba(0, 0, 0, 0.3));\n",
              "      fill: #FFFFFF;\n",
              "    }\n",
              "  </style>\n",
              "\n",
              "      <script>\n",
              "        const buttonEl =\n",
              "          document.querySelector('#df-9d7b2ce2-d37a-46ab-a020-8da152918d30 button.colab-df-convert');\n",
              "        buttonEl.style.display =\n",
              "          google.colab.kernel.accessAllowed ? 'block' : 'none';\n",
              "\n",
              "        async function convertToInteractive(key) {\n",
              "          const element = document.querySelector('#df-9d7b2ce2-d37a-46ab-a020-8da152918d30');\n",
              "          const dataTable =\n",
              "            await google.colab.kernel.invokeFunction('convertToInteractive',\n",
              "                                                     [key], {});\n",
              "          if (!dataTable) return;\n",
              "\n",
              "          const docLinkHtml = 'Like what you see? Visit the ' +\n",
              "            '<a target=\"_blank\" href=https://colab.research.google.com/notebooks/data_table.ipynb>data table notebook</a>'\n",
              "            + ' to learn more about interactive tables.';\n",
              "          element.innerHTML = '';\n",
              "          dataTable['output_type'] = 'display_data';\n",
              "          await google.colab.output.renderOutput(dataTable, element);\n",
              "          const docLink = document.createElement('div');\n",
              "          docLink.innerHTML = docLinkHtml;\n",
              "          element.appendChild(docLink);\n",
              "        }\n",
              "      </script>\n",
              "    </div>\n",
              "  </div>\n"
            ],
            "text/plain": [
              "                                              source_text  \\\n",
              "301706  summarize: claims: aleksandar kovacic, picture...   \n",
              "64689   summarize: caroline foxley, pictured yesterday...   \n",
              "80149   summarize: by . ashley collman . published: . ...   \n",
              "8657    summarize: dejan lovren, the croatian player a...   \n",
              "272815  summarize: there's a word to describe moments ...   \n",
              "...                                                   ...   \n",
              "83681   summarize: by . alex greig . published: . 11:2...   \n",
              "56008   summarize: by . sara malm . published: . 06:06...   \n",
              "276955  summarize: these are the shocking injuries suf...   \n",
              "174     summarize: the heartbroken former fiancãâ©e o...   \n",
              "153261  summarize: nearly 100,000 people have signed a...   \n",
              "\n",
              "                                              target_text  source_len  \\\n",
              "301706  aleksandar kovacic suffered serious injuries i...         856   \n",
              "64689   caroline foxley, 59, was convicted of falsely ...         789   \n",
              "80149   titan lee-hai, 19, jumped 15 stories into the ...         953   \n",
              "8657    dejan lovren has blasted referee yuichi nishim...         651   \n",
              "272815  london's newest tourist attraction provides a ...         967   \n",
              "...                                                   ...         ...   \n",
              "83681   janitor hired for $8 an hour stayed on at care...         714   \n",
              "56008   boy took delta flight from minneapolis to las ...         825   \n",
              "276955  dawn marmoy called 999 after she was beaten by...         772   \n",
              "174     scot young, 52, fell 60ft to his death from ã...        1078   \n",
              "153261  teresa romero ramos contracted virus while tre...        1101   \n",
              "\n",
              "        target_len                                        predictions  \\\n",
              "301706          93  aleksandar kovacic suffered serious injuries a...   \n",
              "64689          124  mother-of-two deposited cash from â£306,000 pr...   \n",
              "80149          131  titan lee-hai, 19, jumped 15 stories to his de...   \n",
              "8657            93  dejan lovren fumes at yuichi nishimura's decis...   \n",
              "272815         110  glass walkway opened yesterday between the nor...   \n",
              "...            ...                                                ...   \n",
              "83681           96  miguel alvarez, 33, stayed at the valley sprin...   \n",
              "56008           96  the nine-year-old boy who made it past securit...   \n",
              "276955         106  dawn marmoy was beaten by her husband michael ...   \n",
              "174            107  mr young, 52, found impaled on metal railings ...   \n",
              "153261          94  teresa romero ramos caught ebola after treatin...   \n",
              "\n",
              "                                          reduced_article  reduced_article_len  \n",
              "301706  'could not be believed' a senior judge ruled m...                  382  \n",
              "64689   ã¢ââit would appear it has still got a bit o...                  470  \n",
              "80149   19-year-old new york university freshman titan...                  539  \n",
              "8657    summarize: dejan lovren, the croatian player a...                  455  \n",
              "272815  up high: the glass platform stretches across t...                  427  \n",
              "...                                                   ...                  ...  \n",
              "83681   stepping up: most of the staff at the valley s...                  535  \n",
              "56008   the boy's parents told minneapolis police they...                  520  \n",
              "276955  the images captured on a police officer's body...                  415  \n",
              "174     noelle reno, 31, joined his daughters scarlet,...                  435  \n",
              "153261  query: at a news conference last week, her hus...                  504  \n",
              "\n",
              "[100 rows x 7 columns]"
            ]
          },
          "execution_count": 52,
          "metadata": {},
          "output_type": "execute_result"
        }
      ],
      "source": [
        "test_df['reduced_article_len'] = test_df['reduced_article'].apply(lambda x: len(nltk.word_tokenize(x)))\n",
        "test_df"
      ]
    },
    {
      "cell_type": "code",
      "execution_count": 53,
      "metadata": {
        "colab": {
          "base_uri": "https://localhost:8080/"
        },
        "id": "DYZ7ibNB1Zu0",
        "outputId": "ec2f138a-ecbe-469a-f784-581b17fcfb66"
      },
      "outputs": [
        {
          "name": "stderr",
          "output_type": "stream",
          "text": [
            "<ipython-input-53-25d0586a3272>:9: SettingWithCopyWarning: \n",
            "A value is trying to be set on a copy of a slice from a DataFrame.\n",
            "Try using .loc[row_indexer,col_indexer] = value instead\n",
            "\n",
            "See the caveats in the documentation: https://pandas.pydata.org/pandas-docs/stable/user_guide/indexing.html#returning-a-view-versus-a-copy\n",
            "  test_df[\"predictions\"] = test_df['reduced_article'].apply(generate_prediction)\n"
          ]
        }
      ],
      "source": [
        "# Define a function to generate predictions using the loaded model\n",
        "def generate_prediction(text):\n",
        "    input_ids = tokenizer.encode(text, return_tensors=\"pt\", truncation=True, max_length=512)\n",
        "    outputs = model.generate(input_ids.to(device), max_length=140, min_length=100, num_return_sequences=1)\n",
        "    predictions = tokenizer.decode(outputs[0], skip_special_tokens=True)\n",
        "    return predictions\n",
        "\n",
        "# Apply the generate_prediction function to the 'source_text' column and store the predictions in a new 'predictions' column\n",
        "test_df[\"predictions\"] = test_df['reduced_article'].apply(generate_prediction)\n",
        "\n",
        "# Save the DataFrame with predictions to a CSV file\n",
        "test_df.to_csv(\"test_predictions.csv\", index=False)\n",
        "\n",
        "# Convert the columns to lists\n",
        "hyps = test_df[\"predictions\"].tolist()\n",
        "refs = test_df[\"target_text\"].tolist()\n",
        "\n",
        "\n",
        "# Join elements if they are already in a list\n",
        "hyps = [' '.join(sentences) if isinstance(sentences, list) else sentences for sentences in hyps]\n",
        "refs = [' '.join(sentences) if isinstance(sentences, list) else sentences for sentences in refs]\n",
        "\n",
        "# Calculate the Rouge scores\n",
        "scores = rouge.get_scores(hyps, refs, avg=True)"
      ]
    },
    {
      "cell_type": "code",
      "execution_count": 54,
      "metadata": {
        "colab": {
          "base_uri": "https://localhost:8080/",
          "height": 150
        },
        "id": "hcujgIQv17UC",
        "outputId": "153615aa-8bf8-4b18-fa72-b700eebc1766"
      },
      "outputs": [
        {
          "data": {
            "text/html": [
              "<pre style=\"white-space:pre;overflow-x:auto;line-height:normal;font-family:Menlo,'DejaVu Sans Mono',consolas,'Courier New',monospace\">ROUGE-<span style=\"color: #008080; text-decoration-color: #008080; font-weight: bold\">1</span>: <span style=\"color: #008080; text-decoration-color: #008080; font-weight: bold\">0.4192</span>\n",
              "</pre>\n"
            ],
            "text/plain": [
              "ROUGE-\u001b[1;36m1\u001b[0m: \u001b[1;36m0.4192\u001b[0m\n"
            ]
          },
          "metadata": {},
          "output_type": "display_data"
        },
        {
          "data": {
            "text/html": [
              "<pre style=\"white-space:pre;overflow-x:auto;line-height:normal;font-family:Menlo,'DejaVu Sans Mono',consolas,'Courier New',monospace\">ROUGE-<span style=\"color: #008080; text-decoration-color: #008080; font-weight: bold\">2</span>: <span style=\"color: #008080; text-decoration-color: #008080; font-weight: bold\">0.1846</span>\n",
              "</pre>\n"
            ],
            "text/plain": [
              "ROUGE-\u001b[1;36m2\u001b[0m: \u001b[1;36m0.1846\u001b[0m\n"
            ]
          },
          "metadata": {},
          "output_type": "display_data"
        },
        {
          "data": {
            "text/html": [
              "<pre style=\"white-space:pre;overflow-x:auto;line-height:normal;font-family:Menlo,'DejaVu Sans Mono',consolas,'Courier New',monospace\">ROUGE-L: <span style=\"color: #008080; text-decoration-color: #008080; font-weight: bold\">0.3921</span>\n",
              "</pre>\n"
            ],
            "text/plain": [
              "ROUGE-L: \u001b[1;36m0.3921\u001b[0m\n"
            ]
          },
          "metadata": {},
          "output_type": "display_data"
        },
        {
          "data": {
            "text/html": [
              "<pre style=\"white-space:pre;overflow-x:auto;line-height:normal;font-family:Menlo,'DejaVu Sans Mono',consolas,'Courier New',monospace\"><span style=\"font-weight: bold\">{</span>\n",
              "    <span style=\"color: #008000; text-decoration-color: #008000\">'rouge-1'</span>: <span style=\"font-weight: bold\">{</span><span style=\"color: #008000; text-decoration-color: #008000\">'r'</span>: <span style=\"color: #008080; text-decoration-color: #008080; font-weight: bold\">0.37231507987577556</span>, <span style=\"color: #008000; text-decoration-color: #008000\">'p'</span>: <span style=\"color: #008080; text-decoration-color: #008080; font-weight: bold\">0.48669444039088816</span>, <span style=\"color: #008000; text-decoration-color: #008000\">'f'</span>: <span style=\"color: #008080; text-decoration-color: #008080; font-weight: bold\">0.4192381238476296</span><span style=\"font-weight: bold\">}</span>,\n",
              "    <span style=\"color: #008000; text-decoration-color: #008000\">'rouge-2'</span>: <span style=\"font-weight: bold\">{</span><span style=\"color: #008000; text-decoration-color: #008000\">'r'</span>: <span style=\"color: #008080; text-decoration-color: #008080; font-weight: bold\">0.16447168602664355</span>, <span style=\"color: #008000; text-decoration-color: #008000\">'p'</span>: <span style=\"color: #008080; text-decoration-color: #008080; font-weight: bold\">0.21430172290187383</span>, <span style=\"color: #008000; text-decoration-color: #008000\">'f'</span>: <span style=\"color: #008080; text-decoration-color: #008080; font-weight: bold\">0.1846173993334714</span><span style=\"font-weight: bold\">}</span>,\n",
              "    <span style=\"color: #008000; text-decoration-color: #008000\">'rouge-l'</span>: <span style=\"font-weight: bold\">{</span><span style=\"color: #008000; text-decoration-color: #008000\">'r'</span>: <span style=\"color: #008080; text-decoration-color: #008080; font-weight: bold\">0.34802077222034034</span>, <span style=\"color: #008000; text-decoration-color: #008000\">'p'</span>: <span style=\"color: #008080; text-decoration-color: #008080; font-weight: bold\">0.45567397750385313</span>, <span style=\"color: #008000; text-decoration-color: #008000\">'f'</span>: <span style=\"color: #008080; text-decoration-color: #008080; font-weight: bold\">0.3921447647319349</span><span style=\"font-weight: bold\">}</span>\n",
              "<span style=\"font-weight: bold\">}</span>\n",
              "</pre>\n"
            ],
            "text/plain": [
              "\u001b[1m{\u001b[0m\n",
              "    \u001b[32m'rouge-1'\u001b[0m: \u001b[1m{\u001b[0m\u001b[32m'r'\u001b[0m: \u001b[1;36m0.37231507987577556\u001b[0m, \u001b[32m'p'\u001b[0m: \u001b[1;36m0.48669444039088816\u001b[0m, \u001b[32m'f'\u001b[0m: \u001b[1;36m0.4192381238476296\u001b[0m\u001b[1m}\u001b[0m,\n",
              "    \u001b[32m'rouge-2'\u001b[0m: \u001b[1m{\u001b[0m\u001b[32m'r'\u001b[0m: \u001b[1;36m0.16447168602664355\u001b[0m, \u001b[32m'p'\u001b[0m: \u001b[1;36m0.21430172290187383\u001b[0m, \u001b[32m'f'\u001b[0m: \u001b[1;36m0.1846173993334714\u001b[0m\u001b[1m}\u001b[0m,\n",
              "    \u001b[32m'rouge-l'\u001b[0m: \u001b[1m{\u001b[0m\u001b[32m'r'\u001b[0m: \u001b[1;36m0.34802077222034034\u001b[0m, \u001b[32m'p'\u001b[0m: \u001b[1;36m0.45567397750385313\u001b[0m, \u001b[32m'f'\u001b[0m: \u001b[1;36m0.3921447647319349\u001b[0m\u001b[1m}\u001b[0m\n",
              "\u001b[1m}\u001b[0m\n"
            ]
          },
          "metadata": {},
          "output_type": "display_data"
        }
      ],
      "source": [
        "# Print the ROUGE scores\n",
        "print(f\"ROUGE-1: {scores['rouge-1']['f']:.4f}\")\n",
        "print(f\"ROUGE-2: {scores['rouge-2']['f']:.4f}\")\n",
        "print(f\"ROUGE-L: {scores['rouge-l']['f']:.4f}\")\n",
        "print(scores)"
      ]
    },
    {
      "cell_type": "code",
      "execution_count": 55,
      "metadata": {
        "colab": {
          "base_uri": "https://localhost:8080/",
          "height": 472
        },
        "id": "DxXDc-Fi1-Ws",
        "outputId": "b8669696-47ab-43f9-964f-9f1fdfc0e0b8"
      },
      "outputs": [
        {
          "data": {
            "image/png": "[encoded data removed]",
            "text/plain": [
              "<Figure size 640x480 with 1 Axes>"
            ]
          },
          "metadata": {},
          "output_type": "display_data"
        }
      ],
      "source": [
        "import matplotlib.pyplot as plt\n",
        "from rouge import Rouge\n",
        "\n",
        "def plot_rouge_scores(scores):\n",
        "    metrics = ['rouge-1', 'rouge-2', 'rouge-l']\n",
        "    scores = [scores['rouge-1']['f'], scores['rouge-2']['f'], scores['rouge-l']['f']]\n",
        "\n",
        "    plt.bar(metrics, scores)\n",
        "    plt.ylim([0, 1])  # Set the y-axis limits to ensure consistent scale\n",
        "\n",
        "    plt.xlabel('Metrics')\n",
        "    plt.ylabel('F-score')\n",
        "    plt.title('Rouge Metrics')\n",
        "\n",
        "    plt.savefig('rouge_metrics.png')\n",
        "    plt.show()\n",
        "\n",
        "# Generate the PNG image\n",
        "plot_rouge_scores(scores)"
      ]
    },
    {
      "cell_type": "markdown",
      "metadata": {
        "id": "GEQskNwY58Rp"
      },
      "source": [
        "## Inference the Model"
      ]
    },
    {
      "cell_type": "code",
      "execution_count": null,
      "metadata": {
        "id": "6YQ5Pu-uOyx7"
      },
      "outputs": [],
      "source": [
        "text=\"\"\"So it took off exactly at the beginning of the window and it's the last Ariane 5. So it's the end of an era of 27 years of quite a successful launcher, probably the best launcher during a quarter of a century. But now the rules of the games are changing probably because it's the last one. And we're expecting a new Ariane 6, which is not ready to fly. Can you just fill us in on what the Ariane program's been about? Because not everybody's as sort of up to date on these matters as certainly you are. I imagine primarily about bringing satellites into space. Initially, Ariane 5 was dedicated to try to have some manned launch, to launch astronauts from Europe. Then they gave up because the little program called Hermes was too expensive. So we had the Ariane 5, which was being built. And so it was a kind of super Ferrari to launch satellites. At the beginning, it didn't work, it had a failure, but then it became a very reliable launcher, very good commercially. Then there was not too much competition. So it was very reliable, was making good money, and the customers were very happy. It is fantastic to see behind you as you're talking to us, the rocket going up into space. Because very often with these things, we hear things get delayed. Why is that such a sensitive issue? Why does that happen, Fred? The delays are not an issue. The issue is when there is an explosion, you lose your whole mission. Clearly, that is very serious. But it's sort of, I mean, I know extremely little about this and you're an expert. When you've got a rocket that is so expensive, that is so massive and secure, why does the weather play such a part in whether it takes off or not? Because it's very sensitive and, for example, it should have been launched 24 hours ago, but there was some wind at high altitudes. So when you have high altitude winds, it can disrupt your trajectory and put the rocket at stake. So it's a very fragile thing. It's a kind of controlled explosion where things can go wrong very quickly and you have only one chance. It's not like your car where you can drive it, even if there is a small, several failures there, you lose the mission. Indeed. And obviously, safety is prime order, as they say. Sorry, that's a French word, isn't it, primordial. It's the most important thing, I think, the most important thing. Can I just sort of ask you, we've had sort of the Ariane 5, there's going to be an Ariane 6. Where does it develop from here? What are the ambitions for this programme? So even if Ariane 5 were extremely successful, quickly, about six, seven years ago, the markets have changed and they saw that it was too expensive. Even with two satellites on board, this launcher was too expensive. So they had to do something more efficient with Ariane 6 to try to cut the cost by at least 40 percent. Unfortunately, this Ariane 6 has a lot of delays, three years of delay, and the backup rockets, smaller rockets are not available. The Russian Soyuz is stuck because of the war in Ukraine. It cannot be launched from French Guiana. And the smaller rocket, Vega C, Italian made, has a failure and it's not it's not working right now. So hopefully next year, at least the Vega C and Ariane 6 should be ready to go and to start again the business and to give the autonomy of Europe to launch its own satellite. Right now, last week, Europe and European Space Agency had to launch with the main competitor SpaceX from Cape Canaveral. OK, so if Ariane 6 can't be sort of accelerated and brought online as quickly as possible, what are the possible consequences of that? How will it affect us? It affects extremely because a lot of satellites are waiting. For example, Galileo is a big network constellation of satellites, but you need new satellites. There is Copernicus, which is a European also network for climate and weather. They need some satellites are waiting. Even military people from different countries like France want to launch and there is no rocket available. So in that case, when it becomes urgent, you go and you buy from the competitor, which makes the thing even worse.\"\"\"\n"
      ]
    },
    {
      "cell_type": "code",
      "execution_count": 39,
      "metadata": {
        "colab": {
          "base_uri": "https://localhost:8080/",
          "height": 103
        },
        "id": "olemDPeDxHG4",
        "outputId": "171a266b-6cb0-4572-91c2-7ef19f3e94bb"
      },
      "outputs": [
        {
          "data": {
            "text/html": [
              "<pre style=\"white-space:pre;overflow-x:auto;line-height:normal;font-family:Menlo,'DejaVu Sans Mono',consolas,'Courier New',monospace\">the last Ariane <span style=\"color: #008080; text-decoration-color: #008080; font-weight: bold\">5</span> launched at the beginning of the window. it was a reliable launcher, very good commercially. the \n",
              "weather plays a huge part in whether the rocket takes off. it's a very fragile thing, and if it explodes, you lose \n",
              "your whole mission. it's not like your car where you can drive it, but it's a very fragile thing. it's not like a \n",
              "car where you can drive it, but it's a very good launcher. it's not ready to fly\n",
              "</pre>\n"
            ],
            "text/plain": [
              "the last Ariane \u001b[1;36m5\u001b[0m launched at the beginning of the window. it was a reliable launcher, very good commercially. the \n",
              "weather plays a huge part in whether the rocket takes off. it's a very fragile thing, and if it explodes, you lose \n",
              "your whole mission. it's not like your car where you can drive it, but it's a very fragile thing. it's not like a \n",
              "car where you can drive it, but it's a very good launcher. it's not ready to fly\n"
            ]
          },
          "metadata": {},
          "output_type": "display_data"
        }
      ],
      "source": [
        "text = \"summarize:\" + text\n",
        "\n",
        "def generate_prediction(text):\n",
        "    max_length = 512  # Maximum length of the input text\n",
        "\n",
        "    # Generate the summary for the entire input text\n",
        "    input_ids = tokenizer.encode(text, return_tensors=\"pt\", truncation=True, max_length=max_length)\n",
        "    outputs = model.generate(input_ids.to(device), max_length=128, min_length=100, num_return_sequences=1)\n",
        "    summary = tokenizer.decode(outputs[0], skip_special_tokens=True)\n",
        "    return summary\n",
        "\n",
        "print(generate_prediction(text))\n"
      ]
    }
  ],
  "metadata": {
    "accelerator": "GPU",
    "colab": {
      "collapsed_sections": [
        "4d7p4Wf_49w7",
        "06bK5h9D43sP",
        "_NPw3SkEwziC",
        "GEQskNwY58Rp"
      ],
      "gpuType": "V100",
      "machine_shape": "hm",
      "provenance": []
    },
    "kernelspec": {
      "display_name": "Python 3",
      "name": "python3"
    },
    "language_info": {
      "name": "python"
    },
    "widgets": {
      "application/vnd.jupyter.widget-state+json": {
        "03d5c2e353114e61965c1f33e2883246": {
          "model_module": "@jupyter-widgets/base",
          "model_module_version": "1.2.0",
          "model_name": "LayoutModel",
          "state": {
            "_model_module": "@jupyter-widgets/base",
            "_model_module_version": "1.2.0",
            "_model_name": "LayoutModel",
            "_view_count": null,
            "_view_module": "@jupyter-widgets/base",
            "_view_module_version": "1.2.0",
            "_view_name": "LayoutView",
            "align_content": null,
            "align_items": null,
            "align_self": null,
            "border": null,
            "bottom": null,
            "display": null,
            "flex": null,
            "flex_flow": null,
            "grid_area": null,
            "grid_auto_columns": null,
            "grid_auto_flow": null,
            "grid_auto_rows": null,
            "grid_column": null,
            "grid_gap": null,
            "grid_row": null,
            "grid_template_areas": null,
            "grid_template_columns": null,
            "grid_template_rows": null,
            "height": null,
            "justify_content": null,
            "justify_items": null,
            "left": null,
            "margin": null,
            "max_height": null,
            "max_width": null,
            "min_height": null,
            "min_width": null,
            "object_fit": null,
            "object_position": null,
            "order": null,
            "overflow": null,
            "overflow_x": null,
            "overflow_y": null,
            "padding": null,
            "right": null,
            "top": null,
            "visibility": null,
            "width": null
          }
        },
        "06357bfe1756438d85f2dd703098a907": {
          "model_module": "@jupyter-widgets/base",
          "model_module_version": "1.2.0",
          "model_name": "LayoutModel",
          "state": {
            "_model_module": "@jupyter-widgets/base",
            "_model_module_version": "1.2.0",
            "_model_name": "LayoutModel",
            "_view_count": null,
            "_view_module": "@jupyter-widgets/base",
            "_view_module_version": "1.2.0",
            "_view_name": "LayoutView",
            "align_content": null,
            "align_items": null,
            "align_self": null,
            "border": null,
            "bottom": null,
            "display": null,
            "flex": null,
            "flex_flow": null,
            "grid_area": null,
            "grid_auto_columns": null,
            "grid_auto_flow": null,
            "grid_auto_rows": null,
            "grid_column": null,
            "grid_gap": null,
            "grid_row": null,
            "grid_template_areas": null,
            "grid_template_columns": null,
            "grid_template_rows": null,
            "height": null,
            "justify_content": null,
            "justify_items": null,
            "left": null,
            "margin": null,
            "max_height": null,
            "max_width": null,
            "min_height": null,
            "min_width": null,
            "object_fit": null,
            "object_position": null,
            "order": null,
            "overflow": null,
            "overflow_x": null,
            "overflow_y": null,
            "padding": null,
            "right": null,
            "top": null,
            "visibility": null,
            "width": null
          }
        },
        "0651a24486794439b901db28c8a00989": {
          "model_module": "@jupyter-widgets/controls",
          "model_module_version": "1.5.0",
          "model_name": "DescriptionStyleModel",
          "state": {
            "_model_module": "@jupyter-widgets/controls",
            "_model_module_version": "1.5.0",
            "_model_name": "DescriptionStyleModel",
            "_view_count": null,
            "_view_module": "@jupyter-widgets/base",
            "_view_module_version": "1.2.0",
            "_view_name": "StyleView",
            "description_width": ""
          }
        },
        "0b01a036797b4f988183c59aa77573c4": {
          "model_module": "@jupyter-widgets/controls",
          "model_module_version": "1.5.0",
          "model_name": "HBoxModel",
          "state": {
            "_dom_classes": [],
            "_model_module": "@jupyter-widgets/controls",
            "_model_module_version": "1.5.0",
            "_model_name": "HBoxModel",
            "_view_count": null,
            "_view_module": "@jupyter-widgets/controls",
            "_view_module_version": "1.5.0",
            "_view_name": "HBoxView",
            "box_style": "",
            "children": [
              "IPY_MODEL_165c7a396d554b75bb6ae3d587c0287b",
              "IPY_MODEL_7306e7db8be24140ace95aab7207583a",
              "IPY_MODEL_771808dde1d04fb79d7b132396ef3331"
            ],
            "layout": "IPY_MODEL_f5aca23efc374def86a2b3a825be8a62"
          }
        },
        "0f40d4b39def4e2bbe48f7062d20b2bf": {
          "model_module": "@jupyter-widgets/base",
          "model_module_version": "1.2.0",
          "model_name": "LayoutModel",
          "state": {
            "_model_module": "@jupyter-widgets/base",
            "_model_module_version": "1.2.0",
            "_model_name": "LayoutModel",
            "_view_count": null,
            "_view_module": "@jupyter-widgets/base",
            "_view_module_version": "1.2.0",
            "_view_name": "LayoutView",
            "align_content": null,
            "align_items": null,
            "align_self": null,
            "border": null,
            "bottom": null,
            "display": null,
            "flex": null,
            "flex_flow": null,
            "grid_area": null,
            "grid_auto_columns": null,
            "grid_auto_flow": null,
            "grid_auto_rows": null,
            "grid_column": null,
            "grid_gap": null,
            "grid_row": null,
            "grid_template_areas": null,
            "grid_template_columns": null,
            "grid_template_rows": null,
            "height": null,
            "justify_content": null,
            "justify_items": null,
            "left": null,
            "margin": null,
            "max_height": null,
            "max_width": null,
            "min_height": null,
            "min_width": null,
            "object_fit": null,
            "object_position": null,
            "order": null,
            "overflow": null,
            "overflow_x": null,
            "overflow_y": null,
            "padding": null,
            "right": null,
            "top": null,
            "visibility": null,
            "width": null
          }
        },
        "11ba4f6e70214cb5ade71cbe2a368204": {
          "model_module": "@jupyter-widgets/controls",
          "model_module_version": "1.5.0",
          "model_name": "HBoxModel",
          "state": {
            "_dom_classes": [],
            "_model_module": "@jupyter-widgets/controls",
            "_model_module_version": "1.5.0",
            "_model_name": "HBoxModel",
            "_view_count": null,
            "_view_module": "@jupyter-widgets/controls",
            "_view_module_version": "1.5.0",
            "_view_name": "HBoxView",
            "box_style": "",
            "children": [
              "IPY_MODEL_2a2a06b8202f40e686452e682cd51824",
              "IPY_MODEL_9ab592d45ab34bc495919d82a41ed368",
              "IPY_MODEL_66339b2263494e37abff1bf10e3e9dfb"
            ],
            "layout": "IPY_MODEL_f5e70fe8759f4de7b43850fbc4d7a96b"
          }
        },
        "165c7a396d554b75bb6ae3d587c0287b": {
          "model_module": "@jupyter-widgets/controls",
          "model_module_version": "1.5.0",
          "model_name": "HTMLModel",
          "state": {
            "_dom_classes": [],
            "_model_module": "@jupyter-widgets/controls",
            "_model_module_version": "1.5.0",
            "_model_name": "HTMLModel",
            "_view_count": null,
            "_view_module": "@jupyter-widgets/controls",
            "_view_module_version": "1.5.0",
            "_view_name": "HTMLView",
            "description": "",
            "description_tooltip": null,
            "layout": "IPY_MODEL_03d5c2e353114e61965c1f33e2883246",
            "placeholder": "​",
            "style": "IPY_MODEL_276adeebc1e040578372df563a00f6df",
            "value": "Downloading model.safetensors: 100%"
          }
        },
        "20774da9a3e24e45b1b83dec7394ecf7": {
          "model_module": "@jupyter-widgets/controls",
          "model_module_version": "1.5.0",
          "model_name": "ProgressStyleModel",
          "state": {
            "_model_module": "@jupyter-widgets/controls",
            "_model_module_version": "1.5.0",
            "_model_name": "ProgressStyleModel",
            "_view_count": null,
            "_view_module": "@jupyter-widgets/base",
            "_view_module_version": "1.2.0",
            "_view_name": "StyleView",
            "bar_color": null,
            "description_width": ""
          }
        },
        "2173ba97c599483788fcd0c4062a293c": {
          "model_module": "@jupyter-widgets/base",
          "model_module_version": "1.2.0",
          "model_name": "LayoutModel",
          "state": {
            "_model_module": "@jupyter-widgets/base",
            "_model_module_version": "1.2.0",
            "_model_name": "LayoutModel",
            "_view_count": null,
            "_view_module": "@jupyter-widgets/base",
            "_view_module_version": "1.2.0",
            "_view_name": "LayoutView",
            "align_content": null,
            "align_items": null,
            "align_self": null,
            "border": null,
            "bottom": null,
            "display": null,
            "flex": null,
            "flex_flow": null,
            "grid_area": null,
            "grid_auto_columns": null,
            "grid_auto_flow": null,
            "grid_auto_rows": null,
            "grid_column": null,
            "grid_gap": null,
            "grid_row": null,
            "grid_template_areas": null,
            "grid_template_columns": null,
            "grid_template_rows": null,
            "height": null,
            "justify_content": null,
            "justify_items": null,
            "left": null,
            "margin": null,
            "max_height": null,
            "max_width": null,
            "min_height": null,
            "min_width": null,
            "object_fit": null,
            "object_position": null,
            "order": null,
            "overflow": null,
            "overflow_x": null,
            "overflow_y": null,
            "padding": null,
            "right": null,
            "top": null,
            "visibility": null,
            "width": null
          }
        },
        "2281cbfeb499423d9478b2254ceb7926": {
          "model_module": "@jupyter-widgets/base",
          "model_module_version": "1.2.0",
          "model_name": "LayoutModel",
          "state": {
            "_model_module": "@jupyter-widgets/base",
            "_model_module_version": "1.2.0",
            "_model_name": "LayoutModel",
            "_view_count": null,
            "_view_module": "@jupyter-widgets/base",
            "_view_module_version": "1.2.0",
            "_view_name": "LayoutView",
            "align_content": null,
            "align_items": null,
            "align_self": null,
            "border": null,
            "bottom": null,
            "display": null,
            "flex": null,
            "flex_flow": null,
            "grid_area": null,
            "grid_auto_columns": null,
            "grid_auto_flow": null,
            "grid_auto_rows": null,
            "grid_column": null,
            "grid_gap": null,
            "grid_row": null,
            "grid_template_areas": null,
            "grid_template_columns": null,
            "grid_template_rows": null,
            "height": null,
            "justify_content": null,
            "justify_items": null,
            "left": null,
            "margin": null,
            "max_height": null,
            "max_width": null,
            "min_height": null,
            "min_width": null,
            "object_fit": null,
            "object_position": null,
            "order": null,
            "overflow": null,
            "overflow_x": null,
            "overflow_y": null,
            "padding": null,
            "right": null,
            "top": null,
            "visibility": null,
            "width": null
          }
        },
        "276adeebc1e040578372df563a00f6df": {
          "model_module": "@jupyter-widgets/controls",
          "model_module_version": "1.5.0",
          "model_name": "DescriptionStyleModel",
          "state": {
            "_model_module": "@jupyter-widgets/controls",
            "_model_module_version": "1.5.0",
            "_model_name": "DescriptionStyleModel",
            "_view_count": null,
            "_view_module": "@jupyter-widgets/base",
            "_view_module_version": "1.2.0",
            "_view_name": "StyleView",
            "description_width": ""
          }
        },
        "27ec59c12d664396851955e9bc2bc127": {
          "model_module": "@jupyter-widgets/base",
          "model_module_version": "1.2.0",
          "model_name": "LayoutModel",
          "state": {
            "_model_module": "@jupyter-widgets/base",
            "_model_module_version": "1.2.0",
            "_model_name": "LayoutModel",
            "_view_count": null,
            "_view_module": "@jupyter-widgets/base",
            "_view_module_version": "1.2.0",
            "_view_name": "LayoutView",
            "align_content": null,
            "align_items": null,
            "align_self": null,
            "border": null,
            "bottom": null,
            "display": null,
            "flex": null,
            "flex_flow": null,
            "grid_area": null,
            "grid_auto_columns": null,
            "grid_auto_flow": null,
            "grid_auto_rows": null,
            "grid_column": null,
            "grid_gap": null,
            "grid_row": null,
            "grid_template_areas": null,
            "grid_template_columns": null,
            "grid_template_rows": null,
            "height": null,
            "justify_content": null,
            "justify_items": null,
            "left": null,
            "margin": null,
            "max_height": null,
            "max_width": null,
            "min_height": null,
            "min_width": null,
            "object_fit": null,
            "object_position": null,
            "order": null,
            "overflow": null,
            "overflow_x": null,
            "overflow_y": null,
            "padding": null,
            "right": null,
            "top": null,
            "visibility": null,
            "width": null
          }
        },
        "2a2a06b8202f40e686452e682cd51824": {
          "model_module": "@jupyter-widgets/controls",
          "model_module_version": "1.5.0",
          "model_name": "HTMLModel",
          "state": {
            "_dom_classes": [],
            "_model_module": "@jupyter-widgets/controls",
            "_model_module_version": "1.5.0",
            "_model_name": "HTMLModel",
            "_view_count": null,
            "_view_module": "@jupyter-widgets/controls",
            "_view_module_version": "1.5.0",
            "_view_name": "HTMLView",
            "description": "",
            "description_tooltip": null,
            "layout": "IPY_MODEL_06357bfe1756438d85f2dd703098a907",
            "placeholder": "​",
            "style": "IPY_MODEL_6d4f2b246e6346cbbee47758798a6830",
            "value": "Downloading (…)neration_config.json: 100%"
          }
        },
        "3449264098464efe8e5844ef00494554": {
          "model_module": "@jupyter-widgets/controls",
          "model_module_version": "1.5.0",
          "model_name": "DescriptionStyleModel",
          "state": {
            "_model_module": "@jupyter-widgets/controls",
            "_model_module_version": "1.5.0",
            "_model_name": "DescriptionStyleModel",
            "_view_count": null,
            "_view_module": "@jupyter-widgets/base",
            "_view_module_version": "1.2.0",
            "_view_name": "StyleView",
            "description_width": ""
          }
        },
        "3d81c9d033854d36a63636cfe8bcefa1": {
          "model_module": "@jupyter-widgets/controls",
          "model_module_version": "1.5.0",
          "model_name": "HBoxModel",
          "state": {
            "_dom_classes": [],
            "_model_module": "@jupyter-widgets/controls",
            "_model_module_version": "1.5.0",
            "_model_name": "HBoxModel",
            "_view_count": null,
            "_view_module": "@jupyter-widgets/controls",
            "_view_module_version": "1.5.0",
            "_view_name": "HBoxView",
            "box_style": "",
            "children": [
              "IPY_MODEL_a170226d0ec2476da6e623ae97880fc0",
              "IPY_MODEL_f0d3698df43248c49efbcbef8c2fea9f",
              "IPY_MODEL_acad9646e7194a1eaf557299ec5c222f"
            ],
            "layout": "IPY_MODEL_bea8f767302a42f6b949ffa4a6437950"
          }
        },
        "48137a94d44d4adc97758fd19cd80db9": {
          "model_module": "@jupyter-widgets/controls",
          "model_module_version": "1.5.0",
          "model_name": "ProgressStyleModel",
          "state": {
            "_model_module": "@jupyter-widgets/controls",
            "_model_module_version": "1.5.0",
            "_model_name": "ProgressStyleModel",
            "_view_count": null,
            "_view_module": "@jupyter-widgets/base",
            "_view_module_version": "1.2.0",
            "_view_name": "StyleView",
            "bar_color": null,
            "description_width": ""
          }
        },
        "53166907b8d44610858292e3f210f82b": {
          "model_module": "@jupyter-widgets/controls",
          "model_module_version": "1.5.0",
          "model_name": "HTMLModel",
          "state": {
            "_dom_classes": [],
            "_model_module": "@jupyter-widgets/controls",
            "_model_module_version": "1.5.0",
            "_model_name": "HTMLModel",
            "_view_count": null,
            "_view_module": "@jupyter-widgets/controls",
            "_view_module_version": "1.5.0",
            "_view_name": "HTMLView",
            "description": "",
            "description_tooltip": null,
            "layout": "IPY_MODEL_7cd52d43ce1c43e1a3d5f5545a7b74a3",
            "placeholder": "​",
            "style": "IPY_MODEL_0651a24486794439b901db28c8a00989",
            "value": "Downloading (…)ve/main/spiece.model: 100%"
          }
        },
        "5a3232c661974e5bbe1b7c68c2705858": {
          "model_module": "@jupyter-widgets/base",
          "model_module_version": "1.2.0",
          "model_name": "LayoutModel",
          "state": {
            "_model_module": "@jupyter-widgets/base",
            "_model_module_version": "1.2.0",
            "_model_name": "LayoutModel",
            "_view_count": null,
            "_view_module": "@jupyter-widgets/base",
            "_view_module_version": "1.2.0",
            "_view_name": "LayoutView",
            "align_content": null,
            "align_items": null,
            "align_self": null,
            "border": null,
            "bottom": null,
            "display": null,
            "flex": null,
            "flex_flow": null,
            "grid_area": null,
            "grid_auto_columns": null,
            "grid_auto_flow": null,
            "grid_auto_rows": null,
            "grid_column": null,
            "grid_gap": null,
            "grid_row": null,
            "grid_template_areas": null,
            "grid_template_columns": null,
            "grid_template_rows": null,
            "height": null,
            "justify_content": null,
            "justify_items": null,
            "left": null,
            "margin": null,
            "max_height": null,
            "max_width": null,
            "min_height": null,
            "min_width": null,
            "object_fit": null,
            "object_position": null,
            "order": null,
            "overflow": null,
            "overflow_x": null,
            "overflow_y": null,
            "padding": null,
            "right": null,
            "top": null,
            "visibility": null,
            "width": null
          }
        },
        "5d551b11b1ee4e749899dcde8a8ffc18": {
          "model_module": "@jupyter-widgets/controls",
          "model_module_version": "1.5.0",
          "model_name": "DescriptionStyleModel",
          "state": {
            "_model_module": "@jupyter-widgets/controls",
            "_model_module_version": "1.5.0",
            "_model_name": "DescriptionStyleModel",
            "_view_count": null,
            "_view_module": "@jupyter-widgets/base",
            "_view_module_version": "1.2.0",
            "_view_name": "StyleView",
            "description_width": ""
          }
        },
        "66339b2263494e37abff1bf10e3e9dfb": {
          "model_module": "@jupyter-widgets/controls",
          "model_module_version": "1.5.0",
          "model_name": "HTMLModel",
          "state": {
            "_dom_classes": [],
            "_model_module": "@jupyter-widgets/controls",
            "_model_module_version": "1.5.0",
            "_model_name": "HTMLModel",
            "_view_count": null,
            "_view_module": "@jupyter-widgets/controls",
            "_view_module_version": "1.5.0",
            "_view_name": "HTMLView",
            "description": "",
            "description_tooltip": null,
            "layout": "IPY_MODEL_27ec59c12d664396851955e9bc2bc127",
            "placeholder": "​",
            "style": "IPY_MODEL_5d551b11b1ee4e749899dcde8a8ffc18",
            "value": " 147/147 [00:00&lt;00:00, 11.0kB/s]"
          }
        },
        "68495e09823a4212b1fb5b8fc01a0cd7": {
          "model_module": "@jupyter-widgets/controls",
          "model_module_version": "1.5.0",
          "model_name": "FloatProgressModel",
          "state": {
            "_dom_classes": [],
            "_model_module": "@jupyter-widgets/controls",
            "_model_module_version": "1.5.0",
            "_model_name": "FloatProgressModel",
            "_view_count": null,
            "_view_module": "@jupyter-widgets/controls",
            "_view_module_version": "1.5.0",
            "_view_name": "ProgressView",
            "bar_style": "success",
            "description": "",
            "description_tooltip": null,
            "layout": "IPY_MODEL_2173ba97c599483788fcd0c4062a293c",
            "max": 791656,
            "min": 0,
            "orientation": "horizontal",
            "style": "IPY_MODEL_48137a94d44d4adc97758fd19cd80db9",
            "value": 791656
          }
        },
        "69a36a43135a4d2c918bcd402692beb5": {
          "model_module": "@jupyter-widgets/base",
          "model_module_version": "1.2.0",
          "model_name": "LayoutModel",
          "state": {
            "_model_module": "@jupyter-widgets/base",
            "_model_module_version": "1.2.0",
            "_model_name": "LayoutModel",
            "_view_count": null,
            "_view_module": "@jupyter-widgets/base",
            "_view_module_version": "1.2.0",
            "_view_name": "LayoutView",
            "align_content": null,
            "align_items": null,
            "align_self": null,
            "border": null,
            "bottom": null,
            "display": null,
            "flex": null,
            "flex_flow": null,
            "grid_area": null,
            "grid_auto_columns": null,
            "grid_auto_flow": null,
            "grid_auto_rows": null,
            "grid_column": null,
            "grid_gap": null,
            "grid_row": null,
            "grid_template_areas": null,
            "grid_template_columns": null,
            "grid_template_rows": null,
            "height": null,
            "justify_content": null,
            "justify_items": null,
            "left": null,
            "margin": null,
            "max_height": null,
            "max_width": null,
            "min_height": null,
            "min_width": null,
            "object_fit": null,
            "object_position": null,
            "order": null,
            "overflow": null,
            "overflow_x": null,
            "overflow_y": null,
            "padding": null,
            "right": null,
            "top": null,
            "visibility": null,
            "width": null
          }
        },
        "6d4f2b246e6346cbbee47758798a6830": {
          "model_module": "@jupyter-widgets/controls",
          "model_module_version": "1.5.0",
          "model_name": "DescriptionStyleModel",
          "state": {
            "_model_module": "@jupyter-widgets/controls",
            "_model_module_version": "1.5.0",
            "_model_name": "DescriptionStyleModel",
            "_view_count": null,
            "_view_module": "@jupyter-widgets/base",
            "_view_module_version": "1.2.0",
            "_view_name": "StyleView",
            "description_width": ""
          }
        },
        "7306e7db8be24140ace95aab7207583a": {
          "model_module": "@jupyter-widgets/controls",
          "model_module_version": "1.5.0",
          "model_name": "FloatProgressModel",
          "state": {
            "_dom_classes": [],
            "_model_module": "@jupyter-widgets/controls",
            "_model_module_version": "1.5.0",
            "_model_name": "FloatProgressModel",
            "_view_count": null,
            "_view_module": "@jupyter-widgets/controls",
            "_view_module_version": "1.5.0",
            "_view_name": "ProgressView",
            "bar_style": "success",
            "description": "",
            "description_tooltip": null,
            "layout": "IPY_MODEL_7e645fb93f984b9ba2c19246f3108721",
            "max": 891646390,
            "min": 0,
            "orientation": "horizontal",
            "style": "IPY_MODEL_fd1f061472bd4f78b774d6be7b9dac7c",
            "value": 891646390
          }
        },
        "771808dde1d04fb79d7b132396ef3331": {
          "model_module": "@jupyter-widgets/controls",
          "model_module_version": "1.5.0",
          "model_name": "HTMLModel",
          "state": {
            "_dom_classes": [],
            "_model_module": "@jupyter-widgets/controls",
            "_model_module_version": "1.5.0",
            "_model_name": "HTMLModel",
            "_view_count": null,
            "_view_module": "@jupyter-widgets/controls",
            "_view_module_version": "1.5.0",
            "_view_name": "HTMLView",
            "description": "",
            "description_tooltip": null,
            "layout": "IPY_MODEL_ea7ac6d81e854d02ba4b50cc71062f69",
            "placeholder": "​",
            "style": "IPY_MODEL_8add297d3882458d8554500cb96d75be",
            "value": " 892M/892M [00:03&lt;00:00, 263MB/s]"
          }
        },
        "7b8db0cdbb82417fbeb842a9503f01c7": {
          "model_module": "@jupyter-widgets/base",
          "model_module_version": "1.2.0",
          "model_name": "LayoutModel",
          "state": {
            "_model_module": "@jupyter-widgets/base",
            "_model_module_version": "1.2.0",
            "_model_name": "LayoutModel",
            "_view_count": null,
            "_view_module": "@jupyter-widgets/base",
            "_view_module_version": "1.2.0",
            "_view_name": "LayoutView",
            "align_content": null,
            "align_items": null,
            "align_self": null,
            "border": null,
            "bottom": null,
            "display": null,
            "flex": null,
            "flex_flow": null,
            "grid_area": null,
            "grid_auto_columns": null,
            "grid_auto_flow": null,
            "grid_auto_rows": null,
            "grid_column": null,
            "grid_gap": null,
            "grid_row": null,
            "grid_template_areas": null,
            "grid_template_columns": null,
            "grid_template_rows": null,
            "height": null,
            "justify_content": null,
            "justify_items": null,
            "left": null,
            "margin": null,
            "max_height": null,
            "max_width": null,
            "min_height": null,
            "min_width": null,
            "object_fit": null,
            "object_position": null,
            "order": null,
            "overflow": null,
            "overflow_x": null,
            "overflow_y": null,
            "padding": null,
            "right": null,
            "top": null,
            "visibility": null,
            "width": null
          }
        },
        "7cd52d43ce1c43e1a3d5f5545a7b74a3": {
          "model_module": "@jupyter-widgets/base",
          "model_module_version": "1.2.0",
          "model_name": "LayoutModel",
          "state": {
            "_model_module": "@jupyter-widgets/base",
            "_model_module_version": "1.2.0",
            "_model_name": "LayoutModel",
            "_view_count": null,
            "_view_module": "@jupyter-widgets/base",
            "_view_module_version": "1.2.0",
            "_view_name": "LayoutView",
            "align_content": null,
            "align_items": null,
            "align_self": null,
            "border": null,
            "bottom": null,
            "display": null,
            "flex": null,
            "flex_flow": null,
            "grid_area": null,
            "grid_auto_columns": null,
            "grid_auto_flow": null,
            "grid_auto_rows": null,
            "grid_column": null,
            "grid_gap": null,
            "grid_row": null,
            "grid_template_areas": null,
            "grid_template_columns": null,
            "grid_template_rows": null,
            "height": null,
            "justify_content": null,
            "justify_items": null,
            "left": null,
            "margin": null,
            "max_height": null,
            "max_width": null,
            "min_height": null,
            "min_width": null,
            "object_fit": null,
            "object_position": null,
            "order": null,
            "overflow": null,
            "overflow_x": null,
            "overflow_y": null,
            "padding": null,
            "right": null,
            "top": null,
            "visibility": null,
            "width": null
          }
        },
        "7e645fb93f984b9ba2c19246f3108721": {
          "model_module": "@jupyter-widgets/base",
          "model_module_version": "1.2.0",
          "model_name": "LayoutModel",
          "state": {
            "_model_module": "@jupyter-widgets/base",
            "_model_module_version": "1.2.0",
            "_model_name": "LayoutModel",
            "_view_count": null,
            "_view_module": "@jupyter-widgets/base",
            "_view_module_version": "1.2.0",
            "_view_name": "LayoutView",
            "align_content": null,
            "align_items": null,
            "align_self": null,
            "border": null,
            "bottom": null,
            "display": null,
            "flex": null,
            "flex_flow": null,
            "grid_area": null,
            "grid_auto_columns": null,
            "grid_auto_flow": null,
            "grid_auto_rows": null,
            "grid_column": null,
            "grid_gap": null,
            "grid_row": null,
            "grid_template_areas": null,
            "grid_template_columns": null,
            "grid_template_rows": null,
            "height": null,
            "justify_content": null,
            "justify_items": null,
            "left": null,
            "margin": null,
            "max_height": null,
            "max_width": null,
            "min_height": null,
            "min_width": null,
            "object_fit": null,
            "object_position": null,
            "order": null,
            "overflow": null,
            "overflow_x": null,
            "overflow_y": null,
            "padding": null,
            "right": null,
            "top": null,
            "visibility": null,
            "width": null
          }
        },
        "8add297d3882458d8554500cb96d75be": {
          "model_module": "@jupyter-widgets/controls",
          "model_module_version": "1.5.0",
          "model_name": "DescriptionStyleModel",
          "state": {
            "_model_module": "@jupyter-widgets/controls",
            "_model_module_version": "1.5.0",
            "_model_name": "DescriptionStyleModel",
            "_view_count": null,
            "_view_module": "@jupyter-widgets/base",
            "_view_module_version": "1.2.0",
            "_view_name": "StyleView",
            "description_width": ""
          }
        },
        "8c6a0eb3f7424a4baded9584b58d7db4": {
          "model_module": "@jupyter-widgets/controls",
          "model_module_version": "1.5.0",
          "model_name": "DescriptionStyleModel",
          "state": {
            "_model_module": "@jupyter-widgets/controls",
            "_model_module_version": "1.5.0",
            "_model_name": "DescriptionStyleModel",
            "_view_count": null,
            "_view_module": "@jupyter-widgets/base",
            "_view_module_version": "1.2.0",
            "_view_name": "StyleView",
            "description_width": ""
          }
        },
        "9ab592d45ab34bc495919d82a41ed368": {
          "model_module": "@jupyter-widgets/controls",
          "model_module_version": "1.5.0",
          "model_name": "FloatProgressModel",
          "state": {
            "_dom_classes": [],
            "_model_module": "@jupyter-widgets/controls",
            "_model_module_version": "1.5.0",
            "_model_name": "FloatProgressModel",
            "_view_count": null,
            "_view_module": "@jupyter-widgets/controls",
            "_view_module_version": "1.5.0",
            "_view_name": "ProgressView",
            "bar_style": "success",
            "description": "",
            "description_tooltip": null,
            "layout": "IPY_MODEL_69a36a43135a4d2c918bcd402692beb5",
            "max": 147,
            "min": 0,
            "orientation": "horizontal",
            "style": "IPY_MODEL_20774da9a3e24e45b1b83dec7394ecf7",
            "value": 147
          }
        },
        "9d05a3d3f2a5452c8b663ace8c0c3042": {
          "model_module": "@jupyter-widgets/controls",
          "model_module_version": "1.5.0",
          "model_name": "ProgressStyleModel",
          "state": {
            "_model_module": "@jupyter-widgets/controls",
            "_model_module_version": "1.5.0",
            "_model_name": "ProgressStyleModel",
            "_view_count": null,
            "_view_module": "@jupyter-widgets/base",
            "_view_module_version": "1.2.0",
            "_view_name": "StyleView",
            "bar_color": null,
            "description_width": ""
          }
        },
        "a170226d0ec2476da6e623ae97880fc0": {
          "model_module": "@jupyter-widgets/controls",
          "model_module_version": "1.5.0",
          "model_name": "HTMLModel",
          "state": {
            "_dom_classes": [],
            "_model_module": "@jupyter-widgets/controls",
            "_model_module_version": "1.5.0",
            "_model_name": "HTMLModel",
            "_view_count": null,
            "_view_module": "@jupyter-widgets/controls",
            "_view_module_version": "1.5.0",
            "_view_name": "HTMLView",
            "description": "",
            "description_tooltip": null,
            "layout": "IPY_MODEL_a775015e4e2f4a2aa9a59f54a6f2dbf7",
            "placeholder": "​",
            "style": "IPY_MODEL_8c6a0eb3f7424a4baded9584b58d7db4",
            "value": "Downloading (…)lve/main/config.json: 100%"
          }
        },
        "a775015e4e2f4a2aa9a59f54a6f2dbf7": {
          "model_module": "@jupyter-widgets/base",
          "model_module_version": "1.2.0",
          "model_name": "LayoutModel",
          "state": {
            "_model_module": "@jupyter-widgets/base",
            "_model_module_version": "1.2.0",
            "_model_name": "LayoutModel",
            "_view_count": null,
            "_view_module": "@jupyter-widgets/base",
            "_view_module_version": "1.2.0",
            "_view_name": "LayoutView",
            "align_content": null,
            "align_items": null,
            "align_self": null,
            "border": null,
            "bottom": null,
            "display": null,
            "flex": null,
            "flex_flow": null,
            "grid_area": null,
            "grid_auto_columns": null,
            "grid_auto_flow": null,
            "grid_auto_rows": null,
            "grid_column": null,
            "grid_gap": null,
            "grid_row": null,
            "grid_template_areas": null,
            "grid_template_columns": null,
            "grid_template_rows": null,
            "height": null,
            "justify_content": null,
            "justify_items": null,
            "left": null,
            "margin": null,
            "max_height": null,
            "max_width": null,
            "min_height": null,
            "min_width": null,
            "object_fit": null,
            "object_position": null,
            "order": null,
            "overflow": null,
            "overflow_x": null,
            "overflow_y": null,
            "padding": null,
            "right": null,
            "top": null,
            "visibility": null,
            "width": null
          }
        },
        "acad9646e7194a1eaf557299ec5c222f": {
          "model_module": "@jupyter-widgets/controls",
          "model_module_version": "1.5.0",
          "model_name": "HTMLModel",
          "state": {
            "_dom_classes": [],
            "_model_module": "@jupyter-widgets/controls",
            "_model_module_version": "1.5.0",
            "_model_name": "HTMLModel",
            "_view_count": null,
            "_view_module": "@jupyter-widgets/controls",
            "_view_module_version": "1.5.0",
            "_view_name": "HTMLView",
            "description": "",
            "description_tooltip": null,
            "layout": "IPY_MODEL_0f40d4b39def4e2bbe48f7062d20b2bf",
            "placeholder": "​",
            "style": "IPY_MODEL_3449264098464efe8e5844ef00494554",
            "value": " 1.21k/1.21k [00:00&lt;00:00, 94.8kB/s]"
          }
        },
        "aeea818348694a4c82595c3afdd0d2bf": {
          "model_module": "@jupyter-widgets/controls",
          "model_module_version": "1.5.0",
          "model_name": "DescriptionStyleModel",
          "state": {
            "_model_module": "@jupyter-widgets/controls",
            "_model_module_version": "1.5.0",
            "_model_name": "DescriptionStyleModel",
            "_view_count": null,
            "_view_module": "@jupyter-widgets/base",
            "_view_module_version": "1.2.0",
            "_view_name": "StyleView",
            "description_width": ""
          }
        },
        "bea8f767302a42f6b949ffa4a6437950": {
          "model_module": "@jupyter-widgets/base",
          "model_module_version": "1.2.0",
          "model_name": "LayoutModel",
          "state": {
            "_model_module": "@jupyter-widgets/base",
            "_model_module_version": "1.2.0",
            "_model_name": "LayoutModel",
            "_view_count": null,
            "_view_module": "@jupyter-widgets/base",
            "_view_module_version": "1.2.0",
            "_view_name": "LayoutView",
            "align_content": null,
            "align_items": null,
            "align_self": null,
            "border": null,
            "bottom": null,
            "display": null,
            "flex": null,
            "flex_flow": null,
            "grid_area": null,
            "grid_auto_columns": null,
            "grid_auto_flow": null,
            "grid_auto_rows": null,
            "grid_column": null,
            "grid_gap": null,
            "grid_row": null,
            "grid_template_areas": null,
            "grid_template_columns": null,
            "grid_template_rows": null,
            "height": null,
            "justify_content": null,
            "justify_items": null,
            "left": null,
            "margin": null,
            "max_height": null,
            "max_width": null,
            "min_height": null,
            "min_width": null,
            "object_fit": null,
            "object_position": null,
            "order": null,
            "overflow": null,
            "overflow_x": null,
            "overflow_y": null,
            "padding": null,
            "right": null,
            "top": null,
            "visibility": null,
            "width": null
          }
        },
        "d1539bdb6c404a448322785b1b22e485": {
          "model_module": "@jupyter-widgets/controls",
          "model_module_version": "1.5.0",
          "model_name": "HTMLModel",
          "state": {
            "_dom_classes": [],
            "_model_module": "@jupyter-widgets/controls",
            "_model_module_version": "1.5.0",
            "_model_name": "HTMLModel",
            "_view_count": null,
            "_view_module": "@jupyter-widgets/controls",
            "_view_module_version": "1.5.0",
            "_view_name": "HTMLView",
            "description": "",
            "description_tooltip": null,
            "layout": "IPY_MODEL_2281cbfeb499423d9478b2254ceb7926",
            "placeholder": "​",
            "style": "IPY_MODEL_aeea818348694a4c82595c3afdd0d2bf",
            "value": " 792k/792k [00:00&lt;00:00, 4.54MB/s]"
          }
        },
        "e1308964b5ac4723bcae3cbb0ccca922": {
          "model_module": "@jupyter-widgets/controls",
          "model_module_version": "1.5.0",
          "model_name": "HBoxModel",
          "state": {
            "_dom_classes": [],
            "_model_module": "@jupyter-widgets/controls",
            "_model_module_version": "1.5.0",
            "_model_name": "HBoxModel",
            "_view_count": null,
            "_view_module": "@jupyter-widgets/controls",
            "_view_module_version": "1.5.0",
            "_view_name": "HBoxView",
            "box_style": "",
            "children": [
              "IPY_MODEL_53166907b8d44610858292e3f210f82b",
              "IPY_MODEL_68495e09823a4212b1fb5b8fc01a0cd7",
              "IPY_MODEL_d1539bdb6c404a448322785b1b22e485"
            ],
            "layout": "IPY_MODEL_7b8db0cdbb82417fbeb842a9503f01c7"
          }
        },
        "ea7ac6d81e854d02ba4b50cc71062f69": {
          "model_module": "@jupyter-widgets/base",
          "model_module_version": "1.2.0",
          "model_name": "LayoutModel",
          "state": {
            "_model_module": "@jupyter-widgets/base",
            "_model_module_version": "1.2.0",
            "_model_name": "LayoutModel",
            "_view_count": null,
            "_view_module": "@jupyter-widgets/base",
            "_view_module_version": "1.2.0",
            "_view_name": "LayoutView",
            "align_content": null,
            "align_items": null,
            "align_self": null,
            "border": null,
            "bottom": null,
            "display": null,
            "flex": null,
            "flex_flow": null,
            "grid_area": null,
            "grid_auto_columns": null,
            "grid_auto_flow": null,
            "grid_auto_rows": null,
            "grid_column": null,
            "grid_gap": null,
            "grid_row": null,
            "grid_template_areas": null,
            "grid_template_columns": null,
            "grid_template_rows": null,
            "height": null,
            "justify_content": null,
            "justify_items": null,
            "left": null,
            "margin": null,
            "max_height": null,
            "max_width": null,
            "min_height": null,
            "min_width": null,
            "object_fit": null,
            "object_position": null,
            "order": null,
            "overflow": null,
            "overflow_x": null,
            "overflow_y": null,
            "padding": null,
            "right": null,
            "top": null,
            "visibility": null,
            "width": null
          }
        },
        "f0d3698df43248c49efbcbef8c2fea9f": {
          "model_module": "@jupyter-widgets/controls",
          "model_module_version": "1.5.0",
          "model_name": "FloatProgressModel",
          "state": {
            "_dom_classes": [],
            "_model_module": "@jupyter-widgets/controls",
            "_model_module_version": "1.5.0",
            "_model_name": "FloatProgressModel",
            "_view_count": null,
            "_view_module": "@jupyter-widgets/controls",
            "_view_module_version": "1.5.0",
            "_view_name": "ProgressView",
            "bar_style": "success",
            "description": "",
            "description_tooltip": null,
            "layout": "IPY_MODEL_5a3232c661974e5bbe1b7c68c2705858",
            "max": 1208,
            "min": 0,
            "orientation": "horizontal",
            "style": "IPY_MODEL_9d05a3d3f2a5452c8b663ace8c0c3042",
            "value": 1208
          }
        },
        "f5aca23efc374def86a2b3a825be8a62": {
          "model_module": "@jupyter-widgets/base",
          "model_module_version": "1.2.0",
          "model_name": "LayoutModel",
          "state": {
            "_model_module": "@jupyter-widgets/base",
            "_model_module_version": "1.2.0",
            "_model_name": "LayoutModel",
            "_view_count": null,
            "_view_module": "@jupyter-widgets/base",
            "_view_module_version": "1.2.0",
            "_view_name": "LayoutView",
            "align_content": null,
            "align_items": null,
            "align_self": null,
            "border": null,
            "bottom": null,
            "display": null,
            "flex": null,
            "flex_flow": null,
            "grid_area": null,
            "grid_auto_columns": null,
            "grid_auto_flow": null,
            "grid_auto_rows": null,
            "grid_column": null,
            "grid_gap": null,
            "grid_row": null,
            "grid_template_areas": null,
            "grid_template_columns": null,
            "grid_template_rows": null,
            "height": null,
            "justify_content": null,
            "justify_items": null,
            "left": null,
            "margin": null,
            "max_height": null,
            "max_width": null,
            "min_height": null,
            "min_width": null,
            "object_fit": null,
            "object_position": null,
            "order": null,
            "overflow": null,
            "overflow_x": null,
            "overflow_y": null,
            "padding": null,
            "right": null,
            "top": null,
            "visibility": null,
            "width": null
          }
        },
        "f5e70fe8759f4de7b43850fbc4d7a96b": {
          "model_module": "@jupyter-widgets/base",
          "model_module_version": "1.2.0",
          "model_name": "LayoutModel",
          "state": {
            "_model_module": "@jupyter-widgets/base",
            "_model_module_version": "1.2.0",
            "_model_name": "LayoutModel",
            "_view_count": null,
            "_view_module": "@jupyter-widgets/base",
            "_view_module_version": "1.2.0",
            "_view_name": "LayoutView",
            "align_content": null,
            "align_items": null,
            "align_self": null,
            "border": null,
            "bottom": null,
            "display": null,
            "flex": null,
            "flex_flow": null,
            "grid_area": null,
            "grid_auto_columns": null,
            "grid_auto_flow": null,
            "grid_auto_rows": null,
            "grid_column": null,
            "grid_gap": null,
            "grid_row": null,
            "grid_template_areas": null,
            "grid_template_columns": null,
            "grid_template_rows": null,
            "height": null,
            "justify_content": null,
            "justify_items": null,
            "left": null,
            "margin": null,
            "max_height": null,
            "max_width": null,
            "min_height": null,
            "min_width": null,
            "object_fit": null,
            "object_position": null,
            "order": null,
            "overflow": null,
            "overflow_x": null,
            "overflow_y": null,
            "padding": null,
            "right": null,
            "top": null,
            "visibility": null,
            "width": null
          }
        },
        "fd1f061472bd4f78b774d6be7b9dac7c": {
          "model_module": "@jupyter-widgets/controls",
          "model_module_version": "1.5.0",
          "model_name": "ProgressStyleModel",
          "state": {
            "_model_module": "@jupyter-widgets/controls",
            "_model_module_version": "1.5.0",
            "_model_name": "ProgressStyleModel",
            "_view_count": null,
            "_view_module": "@jupyter-widgets/base",
            "_view_module_version": "1.2.0",
            "_view_name": "StyleView",
            "bar_color": null,
            "description_width": ""
          }
        }
      }
    }
  },
  "nbformat": 4,
  "nbformat_minor": 0
}
